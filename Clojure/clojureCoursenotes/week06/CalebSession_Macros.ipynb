{
 "cells": [
  {
   "cell_type": "markdown",
   "metadata": {},
   "source": [
    "# Week 06 - Caleb's Class Session"
   ]
  },
  {
   "cell_type": "markdown",
   "metadata": {},
   "source": [
    "Sources (for further reading):\n",
    "- https://clojure.org/reference/macros\n",
    "- https://www.braveclojure.com/writing-macros/\n",
    "- https://github.com/gizmo385/discord.clj/\n",
    "  - A great example of Macros, I'll run through this as an example if we have time."
   ]
  },
  {
   "cell_type": "markdown",
   "metadata": {},
   "source": [
    "## Some Notes About Style in Clojure\n",
    "\n",
    "Here's the \"holy grail\" of Clojure style guides: https://guide.clojure.style/ (and you can even contribute to it at https://github.com/bbatsov/clojure-style-guide)\n",
    "\n",
    "### The Big Things, Summarized\n",
    "\n",
    "#### Naming Conventions\n",
    "\n",
    "- Namespaces\n",
    "    - Should be in the format `project.module` or `organization.project.module`\n",
    "    - Use `lisp-case` in composite namespace segments (e.g. `uoguelph.cis4900.really-cool-clojure-project`)\n",
    "- Variables and Functions\n",
    "    - Also should be `lisp-case`\n",
    "    - Good:\n",
    "        - `(defn some-variable)`\n",
    "        - `(defn some-function)`\n",
    "    - Bad\n",
    "        - `(defn bad_name)`\n",
    "        - `(def myInteger)`\n",
    "        - `(def BigBeanBurrito)`\n",
    "    - Predicates (functions that return true or false, like `even?`) should end with a question mark (?).\n",
    "        - Therefore, you shouldn't see `(is-a-map)` or `(is-some-condition)`\n",
    "        - This leads to things like `(map)` and `(map?)` meaning quite different things\n",
    "    - Conversion functions should use `->` in their names instead of `-to-`\n",
    "        - e.g. instead of having a function `str-to-int` it should be `str->int`.\n",
    "    - Do **not** use any special notation for constants.\n",
    "        - Everything is assumed to be a constant unless specified otherwise\n",
    "- Idiomatic Names\n",
    "    - *Rant: The below suggestions convey the idea that one should follow the conventions set out by Clojure's core library, which (in general) I agree with. However, some of these are terrible variable names, and I refuse to use pointless shorthand to uphold brevity over clarity. As such, I will probably not be following some these idiomatic names in this lesson.*\n",
    "    - Discussion point: What do you think of these idiomatic names?\n",
    "    - in functions:\n",
    "        - `f`, `g`, `h` - function input\n",
    "        - `n` - integer input usually a size\n",
    "        - `index`, `i` - integer index\n",
    "        - `x`, `y` - numbers\n",
    "        - `xs` - sequence\n",
    "        - `m` - map\n",
    "        - `s` - string input\n",
    "        - `re` - regular expression\n",
    "        - `coll` - a collection\n",
    "        - `pred` - a predicate closure\n",
    "        - `& more` - variadic input\n",
    "        - `xf` - xform, a transducer\n",
    "    - in macros:\n",
    "        - `expr` - an expression\n",
    "        - `body` - a macro body\n",
    "        - `binding` - a macro binding vector\n",
    "\n",
    "#### Tabs vs. Spaces\n",
    "\n",
    "**Two spaces.** (in general, there's quite a few exceptions)\n",
    "\n",
    "> Then shalt thou indent the body of the function to two, no more, no less. Two shall be the number thou shalt indent, and the number of the indenting shall be two. Three shalt thou not indent, neither indent thou one, excepting that thou then proceed to two. Four is right out."
   ]
  },
  {
   "cell_type": "code",
   "execution_count": null,
   "metadata": {},
   "outputs": [],
   "source": [
    ";; good\n",
    "(when something\n",
    "  (something-else))\n",
    "\n",
    "(with-out-str\n",
    "  (println \"Hello, \")\n",
    "  (println \"world!\"))\n",
    "\n",
    ";; bad - four spaces\n",
    "(when something\n",
    "    (something-else))\n",
    "\n",
    ";; bad - one space\n",
    "(with-out-str\n",
    " (println \"Hello, \")\n",
    " (println \"world!\"))"
   ]
  },
  {
   "cell_type": "markdown",
   "metadata": {},
   "source": [
    "#### Aligning Function Arguments\n",
    "\n",
    "Vertically align function (or macro) arguments spanning multiple lines."
   ]
  },
  {
   "cell_type": "code",
   "execution_count": null,
   "metadata": {},
   "outputs": [],
   "source": [
    ";; good\n",
    "(filter even?\n",
    "        (range 1 10))\n",
    "\n",
    ";; bad\n",
    "(filter even?\n",
    "  (range 1 10))"
   ]
  },
  {
   "cell_type": "markdown",
   "metadata": {},
   "source": [
    "#### Arguments Indentation\n",
    "\n",
    "If there are no arguments on the same line as the function name, use 1-space of indent"
   ]
  },
  {
   "cell_type": "code",
   "execution_count": null,
   "metadata": {},
   "outputs": [],
   "source": [
    ";; good\n",
    "(filter\n",
    " even?\n",
    " (range 1 10))\n",
    "\n",
    "(or\n",
    " ala\n",
    " bala\n",
    " portokala)\n",
    "\n",
    ";; bad - two-space indent\n",
    "(filter\n",
    "  even?\n",
    "  (range 1 10))\n",
    "\n",
    "(or\n",
    "  ala\n",
    "  bala\n",
    "  portokala)"
   ]
  },
  {
   "cell_type": "markdown",
   "metadata": {},
   "source": [
    "#### Map Keys\n",
    "\n",
    "These should be vertically aligned as well."
   ]
  },
  {
   "cell_type": "code",
   "execution_count": null,
   "metadata": {},
   "outputs": [],
   "source": [
    ";; good\n",
    "{:thing1 thing1\n",
    " :thing2 thing2}\n",
    "\n",
    ";; bad\n",
    "{:thing1 thing1\n",
    ":thing2 thing2}\n",
    "\n",
    ";; bad\n",
    "{:thing1 thing1\n",
    "  :thing2 thing2}"
   ]
  },
  {
   "cell_type": "markdown",
   "metadata": {},
   "source": [
    "#### Line Endings\n",
    "\n",
    "Standard protocol is to use Unix-stle line endings. Git can help with this:\n",
    "\n",
    "> `git config --global core.autocrlf true`\n",
    "\n",
    "#### Bracket Spacing\n",
    "\n",
    "TLDR: Don't get crazy with it.\n",
    "\n",
    "> If any text precedes an opening bracket(`(`, `{` and `[`) or follows a closing bracket(`)`, `}` and `]`), separate that text from that bracket with a space. Conversely, leave no space after an opening bracket and before following text, or after preceding text and before a closing bracket."
   ]
  },
  {
   "cell_type": "code",
   "execution_count": null,
   "metadata": {},
   "outputs": [],
   "source": [
    ";; good\n",
    "(foo (bar baz) quux)\n",
    "\n",
    ";; bad\n",
    "(foo(bar baz)quux)\n",
    "(foo ( bar baz ) quux)"
   ]
  },
  {
   "cell_type": "markdown",
   "metadata": {},
   "source": [
    "#### Commas in Literals\n",
    "\n",
    "They shouldn't be used in sequential literals, but apparently they're completely fine in map literals."
   ]
  },
  {
   "cell_type": "code",
   "execution_count": null,
   "metadata": {},
   "outputs": [],
   "source": [
    ";; good\n",
    "[1 2 3]\n",
    "(1 2 3)\n",
    "\n",
    ";; bad\n",
    "[1, 2, 3]\n",
    "(1, 2, 3)\n",
    "\n",
    ";; good\n",
    "{:name \"Bruce Wayne\" :alter-ego \"Batman\"}\n",
    "\n",
    ";; good and arguably a bit more readable\n",
    "{:name \"Bruce Wayne\"\n",
    " :alter-ego \"Batman\"}\n",
    "\n",
    ";; good and arguably more compact\n",
    "{:name \"Bruce Wayne\", :alter-ego \"Batman\"}"
   ]
  },
  {
   "cell_type": "markdown",
   "metadata": {},
   "source": [
    "#### Gather Your Trailing Parentheses"
   ]
  },
  {
   "cell_type": "code",
   "execution_count": null,
   "metadata": {},
   "outputs": [],
   "source": [
    ";; good; single line\n",
    "(when something\n",
    "  (something-else))\n",
    "\n",
    ";; bad; distinct lines\n",
    "(when something\n",
    "  (something-else)\n",
    ")"
   ]
  },
  {
   "cell_type": "markdown",
   "metadata": {},
   "source": [
    "#### Comments\n",
    "\n",
    "In general, try and make your code self-documenting. However, comments will always have a use. Typical rules of commenting apply:\n",
    "- Don't use superfluous comments, like `(inc somenum) ; increments somenum`.\n",
    "- If a comment is more than one word, use a proper sentence starting with a capital and ending with a period.\n",
    "- Keep comments up-to-date when code changes.\n",
    "- Instead of adding comments to explain bad code, refactor the code to be good!\n",
    "\n",
    "The number of semicolons used in a Clojure comment varies based on the heading-level of the comment (like the number of hash symbols in a Markdown header).\n",
    "- Four semicolons for headers.\n",
    "- Three semicolons for top-level comments.\n",
    "- Two semicolons for comments within code. Place it before the code it relates to, and indent it to the same level.\n",
    "- One semicolon for margin comments."
   ]
  },
  {
   "cell_type": "code",
   "execution_count": null,
   "metadata": {},
   "outputs": [],
   "source": [
    ";;;; This namespace does very important things and you can find an API doc at example.com\n",
    ";;;;\n",
    ";;;; And yes, I know I am breaking so many comment rules with this example, I just wanted\n",
    ";;;; to show how different numbers of semicolons mean different things\n",
    "\n",
    ";;; This section of code has some important implications:\n",
    ";;;   1. Beans are the best food.\n",
    ";;;   2. Clojure for the Brave and True needs to stop hating on infix syntax.\n",
    ";;;   3. Foobar.\n",
    "\n",
    "(defn my-adder [coll]\n",
    "  ;; Look at how I used the reduce function.\n",
    "  (reduce + coll))          ; It looks pretty since it is just one line"
   ]
  },
  {
   "cell_type": "markdown",
   "metadata": {},
   "source": [
    "#### Empty Lines Between Top-level Forms\n",
    "\n",
    "Use a single empty line between top-level forms, unless you are declaring a group of related `def`s together."
   ]
  },
  {
   "cell_type": "code",
   "execution_count": null,
   "metadata": {},
   "outputs": [],
   "source": [
    ";; good\n",
    "(def x ...)\n",
    "\n",
    "(defn foo ...)\n",
    "\n",
    ";; bad\n",
    "(def x ...)\n",
    "(defn foo ...)\n",
    "\n",
    ";; bad\n",
    "(def x ...)\n",
    "\n",
    "\n",
    "(defn foo ...)\n",
    "\n",
    ";; good\n",
    "(def min-rows 10)\n",
    "(def max-rows 20)\n",
    "(def min-cols 15)\n",
    "(def max-cols 30)"
   ]
  },
  {
   "cell_type": "markdown",
   "metadata": {},
   "source": [
    "#### A Laundry List of Other Miscellaneous Rules\n",
    "\n",
    "- Do not add blank lines in the middle of a function or macro definition.\n",
    "- Where feasible, avoid going above a line length of 80 characters.\n",
    "- Do not add trailing whitespace to the end of a line (some editors may highlight this).\n",
    "- Only have 1 file relating to 1 namespace.\n",
    "- In general, order aritys in functions from least arguments to most arguments.\n",
    "- Avoid functions longer than 10 lines of code. Ideally, most will be less than 5."
   ]
  },
  {
   "cell_type": "markdown",
   "metadata": {},
   "source": [
    "# Macros in Clojure\n",
    "\n",
    "## What the heck is a Macro anyway?\n",
    "\n",
    "Macros are used to extend the compiler with our own code. They are similar to functions in syntax, but instead of performing operations on data, a Macro performs operations on the Clojure code itself. For example (and this is truly the most famous example of Clojure Macros), you can strong-arm Clojure into accepting infix notation with Macros. Take a look:"
   ]
  },
  {
   "cell_type": "code",
   "execution_count": null,
   "metadata": {},
   "outputs": [],
   "source": [
    ";;  Infix-notation Macro. Slightly modified, from https://www.braveclojure.com/writing-macros/#Anatomy_of_a_Macro\n",
    "(defmacro infix\n",
    "    \"Clojure for the Brave and True says this is for children, but there's no better way to write division\"\n",
    "    [infixed]\n",
    "    (list (second infixed) (first infixed) (last infixed)))\n",
    "(infix (36 / 2))"
   ]
  },
  {
   "cell_type": "markdown",
   "metadata": {},
   "source": [
    "*Side note: We can clean this code up a bit using argument destructuring!*"
   ]
  },
  {
   "cell_type": "code",
   "execution_count": null,
   "metadata": {},
   "outputs": [],
   "source": [
    ";;  Infix-notation Macro. Slightly modified, from https://www.braveclojure.com/writing-macros/#Anatomy_of_a_Macro\n",
    "(defmacro infix-better\n",
    "    \"Converts infix-notation to prefix-notation.\"\n",
    "    [[left-operand operator right-operand]]\n",
    "    (list operator left-operand right-operand))\n",
    "(infix_better (5.0 / 7.0))"
   ]
  },
  {
   "cell_type": "markdown",
   "metadata": {},
   "source": [
    "> But wait! Shouldn't order of operations take place, and therefore `(5.0 / 7.0)` should be evaluated (and lead to a syntax error) before our Macro?\n",
    "\n",
    "A good question! This highlights the main difference between functions and Macros. When a Macro is used, its arguments aren't fully evaluated before being passed to the function, meaning that arguments are passed as unevaluated data. Meanwhile, functions evaluate arguments before they are passed in."
   ]
  },
  {
   "cell_type": "markdown",
   "metadata": {},
   "source": [
    "### Exercise:\n",
    "\n",
    "Write a macro that takes in a three-argument postfix function (like `(1 5 +)`) and converts it to prefix"
   ]
  },
  {
   "cell_type": "code",
   "execution_count": 4,
   "metadata": {},
   "outputs": [
    {
     "data": {
      "text/plain": [
       "11"
      ]
     },
     "execution_count": 4,
     "metadata": {},
     "output_type": "execute_result"
    }
   ],
   "source": [
    "(defmacro postfix->prefix\n",
    "    [[left right op]] ; you'll need an arg here\n",
    "    (list op left right)) \n",
    "(postfix->prefix (5 6 +)) ; should return 11"
   ]
  },
  {
   "cell_type": "markdown",
   "metadata": {},
   "source": [
    "## Macros, Macros Everywhere!\n",
    "\n",
    "One might even find it surprising that many components of Clojure's core aren't functions, but are actually macros. We can expand out a macro with `macroexpand` to see its true nature. Have a look at this example where I `macroexpand` a `when` structure. Also, don't worry about the single-quote in front of `(when` for now. It's a surprise tool we'll use later!\n",
    "\n",
    "*Actually, here's something to make my life a lot harder. Seems to be that Jupyter notebook doesn't like doing `macroexpand` (giving me a random exception based on how it feels at the time), so you're going to have to paste some of these into a REPL to watch them run. I'll add in the expected output as comments under these things for reference.*"
   ]
  },
  {
   "cell_type": "code",
   "execution_count": 5,
   "metadata": {},
   "outputs": [
    {
     "ename": "java.lang.ClassCastException",
     "evalue": " java.util.ArrayList cannot be cast to java.util.Map",
     "output_type": "error",
     "text": "java.lang.ClassCastException: java.util.ArrayList cannot be cast to java.util.Map",
     "traceback": [
      "\u001b[1;31mjava.lang.ClassCastException: java.util.ArrayList cannot be cast to java.util.Map\u001b[0;0m"
     ]
    }
   ],
   "source": [
    ";;Expanding the when Macro\n",
    "(macroexpand '(when (< 5 rating) \n",
    "                    (println \"I cannot believe you rated Shrek 2 so lowly. I'll return the correct review score for you.\")\n",
    "                    (+ a 100)))\n",
    ";; (if\n",
    ";;   (< 5 rating)\n",
    ";;   (do (println \"I cannot believe you rated Shrek 2 so lowly. I'll return the correct review score for you.\") (+ a 100)))\n"
   ]
  },
  {
   "cell_type": "markdown",
   "metadata": {},
   "source": [
    "Look! Anonymous functions declared with a hash (#) symbol are also Macros!"
   ]
  },
  {
   "cell_type": "code",
   "execution_count": null,
   "metadata": {},
   "outputs": [],
   "source": [
    ";;  Example N, Expanding the an anonymous function macro\n",
    "(macroexpand '(#(* % 3) 8))\n",
    "\n",
    ";; ((fn* [p1__1589#] (* p1__1589# 3)) 8)\n",
    ";; Notice how it places some autogenerated symbol names to represent the args in the function?"
   ]
  },
  {
   "cell_type": "markdown",
   "metadata": {},
   "source": [
    "But we're getting ahead of ourselves there. Let's take a quick step back, have a look at the source code for `and`:"
   ]
  },
  {
   "cell_type": "code",
   "execution_count": null,
   "metadata": {},
   "outputs": [],
   "source": [
    "(defmacro and\n",
    "  \"Evaluates exprs one at a time, from left to right. If a form\n",
    "  returns logical false (nil or false), and returns that value and\n",
    "  doesn't evaluate any of the other expressions, otherwise it returns\n",
    "  the value of the last expr. (and) returns true.\"\n",
    "  {:added \"1.0\"}\n",
    "  ([] true)\n",
    "  ([x] x)\n",
    "  ([x & next]\n",
    "   `(let [and# ~x]\n",
    "      (if and# (and ~@next) and#))))\n"
   ]
  },
  {
   "cell_type": "markdown",
   "metadata": {},
   "source": [
    "There's a lot happening here, so let's break this down a bit. First off, we can see that there are three macro bodies:\n",
    "- A 0-arity body that just returns `true`\n",
    "- A 1-arity body that just throws the argument back at the caller (which makes sense, given our understanding of `and`, with how it returns the last argument).\n",
    "- An n-arity body that recursively drills down eac of the arguments for truthiness with `if`. It uses a rest parameter `& next`, good thing we know about those!\n",
    "\n",
    "As a consequence of this, we can't `apply` `and` like a regular function."
   ]
  },
  {
   "cell_type": "code",
   "execution_count": 6,
   "metadata": {},
   "outputs": [
    {
     "ename": "java.lang.RuntimeException",
     "evalue": " Can't take value of a macro",
     "output_type": "error",
     "text": "java.lang.RuntimeException: Can't take value of a macro: #'clojure.core/and\r\n\tat clojure.lang.Util.runtimeException(Util.java:221)\r\n\tat clojure.lang.Compiler.analyzeSymbol(Compiler.java:7209)\r\n\tat clojure.lang.Compiler.analyze(Compiler.java:6752)\r\n\tat clojure.lang.Compiler.analyze(Compiler.java:6729)\r\n\tat clojure.lang.Compiler$InvokeExpr.parse(Compiler.java:3881)\r\n\tat clojure.lang.Compiler.analyzeSeq(Compiler.java:7005)\r\n\tat clojure.lang.Compiler.analyze(Compiler.java:6773)\r\n\tat clojure.lang.Compiler.analyze(Compiler.java:6729)\r\n\tat clojure.lang.Compiler$BodyExpr$Parser.parse(Compiler.java:6100)\r\n\tat clojure.lang.Compiler$FnMethod.parse(Compiler.java:5460)\r\n\tat clojure.lang.Compiler$FnExpr.parse(Compiler.java:4022)\r\n\tat clojure.lang.Compiler.analyzeSeq(Compiler.java:7001)\r\n\tat clojure.lang.Compiler.analyze(Compiler.java:6773)\r\n\tat clojure.lang.Compiler.eval(Compiler.java:7059)\r\n\tat clojure.lang.Compiler.load(Compiler.java:7514)\r\n\tat clojure.lang.Compiler.load(Compiler.java:7461)\r\n\tat clojure.core$load_reader.invokeStatic(core.clj:4053)\r\n\tat clojure.core$load_string.invokeStatic(core.clj:4055)\r\n\tat clojure.core$load_string.invoke(core.clj:4055)\r\n\tat beaker_clojure_shell_c2db012a_2e34_40a8_b528_80c5264813e1$run_str_c2db012a_2e34_40a8_b528_80c5264813e1.invokeStatic(Unknown Source)\r\n\tat beaker_clojure_shell_c2db012a_2e34_40a8_b528_80c5264813e1$run_str_c2db012a_2e34_40a8_b528_80c5264813e1.invoke(Unknown Source)\r\n\tat clojure.lang.Var.invoke(Var.java:381)\r\n\tat com.twosigma.beakerx.clojure.evaluator.ClojureEvaluator.runCode(ClojureEvaluator.java:171)\r\n\tat com.twosigma.beakerx.clojure.evaluator.ClojureCodeRunner.call(ClojureCodeRunner.java:47)\r\n\tat com.twosigma.beakerx.clojure.evaluator.ClojureCodeRunner.call(ClojureCodeRunner.java:28)\r\n\tat java.util.concurrent.FutureTask.run(FutureTask.java:266)\r\n\tat java.lang.Thread.run(Thread.java:745)\r\n",
     "traceback": [
      "\u001b[1;31mjava.lang.RuntimeException: Can't take value of a macro: #'clojure.core/and\u001b[0;0m",
      "\u001b[1;31m\tat clojure.lang.Util.runtimeException(Util.java:221)\u001b[0;0m",
      "\u001b[1;31m\tat clojure.lang.Compiler.analyzeSymbol(Compiler.java:7209)\u001b[0;0m",
      "\u001b[1;31m\tat clojure.lang.Compiler.analyze(Compiler.java:6752)\u001b[0;0m",
      "\u001b[1;31m\tat clojure.lang.Compiler.analyze(Compiler.java:6729)\u001b[0;0m",
      "\u001b[1;31m\tat clojure.lang.Compiler$InvokeExpr.parse(Compiler.java:3881)\u001b[0;0m",
      "\u001b[1;31m\tat clojure.lang.Compiler.analyzeSeq(Compiler.java:7005)\u001b[0;0m",
      "\u001b[1;31m\tat clojure.lang.Compiler.analyze(Compiler.java:6773)\u001b[0;0m",
      "\u001b[1;31m\tat clojure.lang.Compiler.analyze(Compiler.java:6729)\u001b[0;0m",
      "\u001b[1;31m\tat clojure.lang.Compiler$BodyExpr$Parser.parse(Compiler.java:6100)\u001b[0;0m",
      "\u001b[1;31m\tat clojure.lang.Compiler$FnMethod.parse(Compiler.java:5460)\u001b[0;0m",
      "\u001b[1;31m\tat clojure.lang.Compiler$FnExpr.parse(Compiler.java:4022)\u001b[0;0m",
      "\u001b[1;31m\tat clojure.lang.Compiler.analyzeSeq(Compiler.java:7001)\u001b[0;0m",
      "\u001b[1;31m\tat clojure.lang.Compiler.analyze(Compiler.java:6773)\u001b[0;0m",
      "\u001b[1;31m\tat clojure.lang.Compiler.eval(Compiler.java:7059)\u001b[0;0m",
      "\u001b[1;31m\tat clojure.lang.Compiler.load(Compiler.java:7514)\u001b[0;0m",
      "\u001b[1;31m\tat clojure.lang.Compiler.load(Compiler.java:7461)\u001b[0;0m",
      "\u001b[1;31m\tat clojure.core$load_reader.invokeStatic(core.clj:4053)\u001b[0;0m",
      "\u001b[1;31m\tat clojure.core$load_string.invokeStatic(core.clj:4055)\u001b[0;0m",
      "\u001b[1;31m\tat clojure.core$load_string.invoke(core.clj:4055)\u001b[0;0m",
      "\u001b[1;31m\tat beaker_clojure_shell_c2db012a_2e34_40a8_b528_80c5264813e1$run_str_c2db012a_2e34_40a8_b528_80c5264813e1.invokeStatic(Unknown Source)\u001b[0;0m",
      "\u001b[1;31m\tat beaker_clojure_shell_c2db012a_2e34_40a8_b528_80c5264813e1$run_str_c2db012a_2e34_40a8_b528_80c5264813e1.invoke(Unknown Source)\u001b[0;0m",
      "\u001b[1;31m\tat clojure.lang.Var.invoke(Var.java:381)\u001b[0;0m",
      "\u001b[0;31m\tat com.twosigma.beakerx.clojure.evaluator.ClojureEvaluator.runCode(ClojureEvaluator.java:171)\u001b[0;0m",
      "\u001b[0;31m\tat com.twosigma.beakerx.clojure.evaluator.ClojureCodeRunner.call(ClojureCodeRunner.java:47)\u001b[0;0m",
      "\u001b[0;31m\tat com.twosigma.beakerx.clojure.evaluator.ClojureCodeRunner.call(ClojureCodeRunner.java:28)\u001b[0;0m",
      "\u001b[0;31m\tat java.util.concurrent.FutureTask.run(FutureTask.java:266)\u001b[0;0m",
      "\u001b[0;31m\tat java.lang.Thread.run(Thread.java:745)\u001b[0;0m"
     ]
    }
   ],
   "source": [
    "(apply max [1 2 3 -1])\n",
    "; => 3\n",
    "\n",
    "(apply and [[true true] [true false]])\n",
    "; You might think it would give false, but you get\n",
    "; java.lang.RuntimeException: Can't take value of a macro: #'clojure.core/and"
   ]
  },
  {
   "cell_type": "markdown",
   "metadata": {},
   "source": [
    "There's also a few new pieces of syntax in `and`, like the backtick, tilde, and `~@`. You'll see what these do soon, but first, we need to talk about quoting in Clojure."
   ]
  },
  {
   "cell_type": "markdown",
   "metadata": {},
   "source": [
    "## What's Quoting?\n",
    "\n",
    "<img src=\"https://i.imgur.com/xByII.jpg\" alt=\"This isn't what I mean by quoting\" width=\"300\"/>\n",
    "\n",
    "Quoting is used to return unevaluated symbols. We've already used quoting above, when we did `macroexpand` on the `when` Macro. Here's some examples:"
   ]
  },
  {
   "cell_type": "code",
   "execution_count": null,
   "metadata": {},
   "outputs": [],
   "source": [
    "(+ 1 2)\n",
    "; => 3\n",
    "\n",
    "(quote (+ 1 3))\n",
    "; Gives an exception in Jupyter, but try it in a REPL and you'll get:\n",
    "; => (+ 1 3)\n",
    "\n",
    "'(+ 1 3)\n",
    "; A reader macro that expands to (quote (+ 1 3))"
   ]
  },
  {
   "cell_type": "code",
   "execution_count": null,
   "metadata": {},
   "outputs": [],
   "source": [
    "+\n",
    "; If we just evaluate the plus symbol, we get the plus function:\n",
    "; clojure.core$_PLUS_@7559bbc4\n",
    "; (or in a lein REPL, #object[clojure.core$_PLUS_ 0x3fbde1a3 \"clojure.core$_PLUS_@3fbde1a3\"])\n",
    "\n",
    "(quote +)\n",
    "; => +\n",
    "; But then if we quote the plus function, we get the plus symbol\n",
    "; (somehow, THIS works in Jupyter...)"
   ]
  },
  {
   "cell_type": "code",
   "execution_count": null,
   "metadata": {},
   "outputs": [],
   "source": [
    "pork-and-beans\n",
    "; evaluating an undefined symbol will cause a RuntimeException"
   ]
  },
  {
   "cell_type": "code",
   "execution_count": null,
   "metadata": {},
   "outputs": [],
   "source": [
    "(quote pork-and-beans)\n",
    "; => pork-and-beans\n",
    "; quoting it will just return the symbol (this one works!)"
   ]
  },
  {
   "cell_type": "markdown",
   "metadata": {},
   "source": [
    "Now, let's have a look at the `when` Macro's source code and see how it uses simple quoting:"
   ]
  },
  {
   "cell_type": "code",
   "execution_count": null,
   "metadata": {},
   "outputs": [],
   "source": [
    "(defmacro when\n",
    "  \"Evaluates test. If logical true, evaluates body in an implicit do.\"\n",
    "  {:added \"1.0\"}\n",
    "  [test & body]\n",
    "  (list 'if test (cons 'do body)))"
   ]
  },
  {
   "cell_type": "markdown",
   "metadata": {},
   "source": [
    "See how `if` and `do` are both quoted? Have a look above where we did `macroexpand`. Notice how the `list` and `cons` were evaluated before expanding the macro, and then the `if` and `do` remain in the aftermath? That's because we want the `if` and `do` to be part of the final list that `when` returns for evaluation.\n",
    "\n",
    "Now, let's test our knowledge here with a little exercise. I've taken the source of the [`when-not`](https://clojuredocs.org/clojure.core/when-not) macro and messed it up a bit. Your goal is to fix it by having a look at `when` and making changes so that `calebs-when-not` works just like `when-not`. When you're writing this, think about what things should be evaluated inside versus outside of the macro."
   ]
  },
  {
   "cell_type": "code",
   "execution_count": 22,
   "metadata": {},
   "outputs": [
    {
     "name": "stdout",
     "output_type": "stream",
     "text": [
      "Woah! That's a lot of beans!\n",
      "We could make some chili!\n"
     ]
    },
    {
     "data": {
      "text/plain": [
       "null"
      ]
     },
     "execution_count": 22,
     "metadata": {},
     "output_type": "execute_result"
    }
   ],
   "source": [
    "(defmacro calebs-when-not\n",
    "  \"Evaluates test. If logical false, evaluates body in an implicit do.\"\n",
    "  [test & body]\n",
    "    (list 'if test nil (cons 'do body)))\n",
    "\n",
    ";; Ideally, this should just print out the two lines.\n",
    "(let [beans-in-my-pocket 30]\n",
    "     (calebs-when-not (<= beans-in-my-pocket 10)\n",
    "                      (println \"Woah! That's a lot of beans!\")\n",
    "                      (println \"We could make some chili!\")))\n",
    "\n",
    ";; (let [beans-in-my-pocket 30]\n",
    ";;    (macroexpand '(calebs-when-not (<= beans-in-my-pocket 10)\n",
    ";;                                  (println \"Woah! That's a lot of beans!\")\n",
    ";;                                  (println \"We could make some chili!\"))) )\n",
    ";; bruh\n",
    ";; => (if test nil nil)\n"
   ]
  },
  {
   "cell_type": "markdown",
   "metadata": {},
   "source": [
    "## Syntax Quoting\n",
    "\n",
    "> Syntax quoting returns unevaluated data structures, similar to normal quoting. However, there are two important differences. One difference is that syntax quoting will return the fully qualified symbols (that is, with the symbol’s namespace included) ... The other difference between quoting and syntax quoting is that the latter allows you to unquote forms using the tilde, `~`. - *Clojure for the Brave and True*\n",
    "\n",
    "Here's some examples to illustrate this a little more clearly:"
   ]
  },
  {
   "cell_type": "code",
   "execution_count": 74,
   "metadata": {},
   "outputs": [
    {
     "data": {
      "text/plain": [
       "apply"
      ]
     },
     "execution_count": 74,
     "metadata": {},
     "output_type": "execute_result"
    }
   ],
   "source": [
    "'apply"
   ]
  },
  {
   "cell_type": "code",
   "execution_count": 75,
   "metadata": {},
   "outputs": [
    {
     "data": {
      "text/plain": [
       "clojure.core/apply"
      ]
     },
     "execution_count": 75,
     "metadata": {},
     "output_type": "execute_result"
    }
   ],
   "source": [
    "; If we include the namespace, we get back the namespace\n",
    "'clojure.core/apply"
   ]
  },
  {
   "cell_type": "code",
   "execution_count": 77,
   "metadata": {},
   "outputs": [
    {
     "data": {
      "text/plain": [
       "clojure.core/apply"
      ]
     },
     "execution_count": 77,
     "metadata": {},
     "output_type": "execute_result"
    }
   ],
   "source": [
    "; Syntax quoting will always return the namespace. You use the backtick (`) for it.\n",
    "`apply"
   ]
  },
  {
   "cell_type": "markdown",
   "metadata": {},
   "source": [
    "Both simple and syntax quoting do their respective types of quoting when given a list."
   ]
  },
  {
   "cell_type": "code",
   "execution_count": 78,
   "metadata": {},
   "outputs": [
    {
     "ename": "java.lang.ClassCastException",
     "evalue": " class java.lang.Integer cannot be cast to class java.util.Map (java.lang.Integer and java.util.Map are in module java.base of loader 'bootstrap')",
     "output_type": "error",
     "text": "java.lang.ClassCastException: class java.lang.Integer cannot be cast to class java.util.Map (java.lang.Integer and java.util.Map are in module java.base of loader 'bootstrap')",
     "traceback": [
      "\u001b[1;31mjava.lang.ClassCastException: class java.lang.Integer cannot be cast to class java.util.Map (java.lang.Integer and java.util.Map are in module java.base of loader 'bootstrap')\u001b[0;0m"
     ]
    }
   ],
   "source": [
    "; Jupyter hates this one\n",
    "'(- 7 6)\n",
    "; => (- 7 6)"
   ]
  },
  {
   "cell_type": "code",
   "execution_count": 79,
   "metadata": {},
   "outputs": [
    {
     "ename": "java.lang.ClassCastException",
     "evalue": " class java.lang.Integer cannot be cast to class java.util.Map (java.lang.Integer and java.util.Map are in module java.base of loader 'bootstrap')",
     "output_type": "error",
     "text": "java.lang.ClassCastException: class java.lang.Integer cannot be cast to class java.util.Map (java.lang.Integer and java.util.Map are in module java.base of loader 'bootstrap')",
     "traceback": [
      "\u001b[1;31mjava.lang.ClassCastException: class java.lang.Integer cannot be cast to class java.util.Map (java.lang.Integer and java.util.Map are in module java.base of loader 'bootstrap')\u001b[0;0m"
     ]
    }
   ],
   "source": [
    "; and this one too.\n",
    "`(- 7 6)\n",
    "; => (clojure.core/- 7 6)"
   ]
  },
  {
   "cell_type": "markdown",
   "metadata": {},
   "source": [
    "Here's a look at that property mentioned about the tilde symbol (syntax unquoting):"
   ]
  },
  {
   "cell_type": "code",
   "execution_count": 81,
   "metadata": {},
   "outputs": [
    {
     "ename": "java.lang.ClassCastException",
     "evalue": " class java.lang.String cannot be cast to class java.util.Map (java.lang.String and java.util.Map are in module java.base of loader 'bootstrap')",
     "output_type": "error",
     "text": "java.lang.ClassCastException: class java.lang.String cannot be cast to class java.util.Map (java.lang.String and java.util.Map are in module java.base of loader 'bootstrap')",
     "traceback": [
      "\u001b[1;31mjava.lang.ClassCastException: class java.lang.String cannot be cast to class java.util.Map (java.lang.String and java.util.Map are in module java.base of loader 'bootstrap')\u001b[0;0m"
     ]
    }
   ],
   "source": [
    "; Just make sure you've still got your REPL ready\n",
    "`(str \"Donkey \" ~(str \"K\" \"ong\"))\n",
    "; => (clojure.core/str \"Donkey \" \"Kong\")"
   ]
  },
  {
   "cell_type": "markdown",
   "metadata": {},
   "source": [
    "One way to think about this syntax unquoting is to compare it to string interpolation in other languages. Look at the following example in Python:\n",
    "\n",
    "```Python\n",
    "name = 'World'\n",
    "program = 'Python'\n",
    "print(f'Hello {name}! This is {program}')\n",
    "```\n",
    "\n",
    "See how it might be a little bit cleaner than this?\n",
    "\n",
    "```Python\n",
    "name = 'World'\n",
    "program = 'Python'\n",
    "print('Hello ' + name + '! This is ' + program)\n",
    "```\n",
    "\n",
    "In the same way, quoting and unquoting allow for cleaner and easily digestable code:"
   ]
  },
  {
   "cell_type": "code",
   "execution_count": 87,
   "metadata": {},
   "outputs": [
    {
     "name": "stdout",
     "output_type": "stream",
     "text": [
      "This sparks joy: (1 + 2)\n",
      "This does not spark joy: (+ 1 2)\n"
     ]
    },
    {
     "data": {
      "text/plain": [
       "null"
      ]
     },
     "execution_count": 87,
     "metadata": {},
     "output_type": "execute_result"
    }
   ],
   "source": [
    "(defmacro spark-joy-meme-generator\n",
    "  \"Makes memes in the form of 'This does (not) spark joy'\"\n",
    "  [joyful unjoyful]\n",
    "  (list 'do\n",
    "        (list 'println\n",
    "              \"This sparks joy:\"\n",
    "              (list 'quote joyful))\n",
    "        (list 'println\n",
    "              \"This does not spark joy:\"\n",
    "              (list 'quote unjoyful))))\n",
    "\n",
    "(spark-joy-meme-generator (1 + 2) (+ 1 2))"
   ]
  },
  {
   "cell_type": "markdown",
   "metadata": {},
   "source": [
    "See all of those single quotes and lists? It does the job, but it's not very pretty. How about we use unquoting to make this a little easier on the eyes?"
   ]
  },
  {
   "cell_type": "code",
   "execution_count": 86,
   "metadata": {},
   "outputs": [
    {
     "name": "stdout",
     "output_type": "stream",
     "text": [
      "This sparks joy: (5 / 7)\n",
      "This does not spark joy: (/ 5 7)\n"
     ]
    },
    {
     "data": {
      "text/plain": [
       "null"
      ]
     },
     "execution_count": 86,
     "metadata": {},
     "output_type": "execute_result"
    }
   ],
   "source": [
    "(defmacro spark-joy-meme-generator\n",
    "  \"Makes memes in the form of 'This does (not) spark joy'\"\n",
    "  [joyful unjoyful]\n",
    "  `(do (println \"This sparks joy:\"\n",
    "                (quote ~joyful))\n",
    "       (println \"This does not spark joy:\"\n",
    "                (quote ~unjoyful))))\n",
    "(spark-joy-meme-generator (5 / 7) (/ 5 7))"
   ]
  },
  {
   "cell_type": "markdown",
   "metadata": {},
   "source": [
    "There, that's a bit easier to understand. We want to quote everything except for the symbols `joyful` and `unjoyful`, so we just syntax quote the whole thing and unquote where necessary. This prevents us from having to quote every piece individually and explicitly placing them in a list, just to prevent those two symbols from being quoted.\n",
    "\n",
    "However... Could we refactor this meme generator further? I spot a bit of duplicate code where we've got 2 println calls with quote calls in them. Let's make a function for it!"
   ]
  },
  {
   "cell_type": "code",
   "execution_count": 89,
   "metadata": {},
   "outputs": [
    {
     "name": "stdout",
     "output_type": "stream",
     "text": [
      "This sparks joy: (5 / 7)\n",
      "This does not spark joy: (/ 5 7)\n"
     ]
    },
    {
     "data": {
      "text/plain": [
       "null"
      ]
     },
     "execution_count": 89,
     "metadata": {},
     "output_type": "execute_result"
    }
   ],
   "source": [
    "(defn meme-line\n",
    "  [text code]\n",
    "  `(println ~text (quote ~code)))\n",
    "\n",
    "(defmacro spark-joy-meme-generator\n",
    "  \"Makes memes in the form of 'This does (not) spark joy'\"\n",
    "  [joyful unjoyful]\n",
    "  `(do ~(meme-line \"This sparks joy:\" joyful)\n",
    "       ~(meme-line \"This does not spark joy:\" unjoyful)))\n",
    "\n",
    "(spark-joy-meme-generator (5 / 7) (/ 5 7))"
   ]
  },
  {
   "cell_type": "markdown",
   "metadata": {},
   "source": [
    "Cool! But I think we could do better. What if we used `map` to `apply` `meme-line` to a list of lists that put together text and the code we want to put beside it?"
   ]
  },
  {
   "cell_type": "code",
   "execution_count": null,
   "metadata": {},
   "outputs": [],
   "source": [
    "(defn meme-line\n",
    "  [text code]\n",
    "  `(println ~text (quote ~code)))\n",
    "\n",
    "(defmacro spark-joy-meme-generator\n",
    "  \"Makes memes in the form of 'This does (not) spark joy'\"\n",
    "  [joyful unjoyful]\n",
    "  `(do ~(map #(apply meme-line %)\n",
    "             [[\"This sparks joy:\" joyful]\n",
    "              [\"This does not spark joy:\" unjoyful]])))\n",
    "\n",
    "(spark-joy-meme-generator (6 * 2) (* 6 2))"
   ]
  },
  {
   "cell_type": "markdown",
   "metadata": {},
   "source": [
    "It works! But... What's this NullPointerException doing here?\n",
    "\n",
    "Let's break this down and see what's going on here.\n",
    "\n",
    "```Clojure\n",
    "(spark-joy-meme-generator (6 * 2) (* 6 2))\n",
    "; Goes through the macro and function, then becomes\n",
    "(do\n",
    " ((clojure.core/println \"This sparks joy:\" '(6 * 2))\n",
    "  (clojure.core/println \"This does not spark joy:\" '(* 6 2))))\n",
    "; Evaluates the first do, println returns nil\n",
    "(do\n",
    " (nil)\n",
    "  (clojure.core/println \"This does not spark joy:\" '(* 6 2)))\n",
    "; Evaluates the second do, and println again returns nil\n",
    "'(do\n",
    " (nil nil))\n",
    "```\n",
    "\n",
    "Huzzah! There's our culprit, `(nil nil)` is not callable. However, we have a tool we can use to help here. Remember that `~@` symbol in the `and` source code? The `~@` is used for a process called *unquote splicing*. Unquote splicing unwraps a sequence to the upper level, placing its contents directly within the parent sequence. Here's an example:"
   ]
  },
  {
   "cell_type": "code",
   "execution_count": 93,
   "metadata": {},
   "outputs": [
    {
     "ename": "java.lang.ClassCastException",
     "evalue": " class java.util.ArrayList cannot be cast to class java.util.Map (java.util.ArrayList and java.util.Map are in module java.base of loader 'bootstrap')",
     "output_type": "error",
     "text": "java.lang.ClassCastException: class java.util.ArrayList cannot be cast to class java.util.Map (java.util.ArrayList and java.util.Map are in module java.base of loader 'bootstrap')",
     "traceback": [
      "\u001b[1;31mjava.lang.ClassCastException: class java.util.ArrayList cannot be cast to class java.util.Map (java.util.ArrayList and java.util.Map are in module java.base of loader 'bootstrap')\u001b[0;0m"
     ]
    }
   ],
   "source": [
    "`(+ ~(list 7 6 5))\n",
    "; => (clojure.core/+ (7 6 5))\n",
    "; see how the 765 is in its own list?\n",
    "; again, Jupyter does not enjoy this"
   ]
  },
  {
   "cell_type": "code",
   "execution_count": 95,
   "metadata": {},
   "outputs": [
    {
     "ename": "java.lang.ClassCastException",
     "evalue": " class java.lang.Integer cannot be cast to class java.util.Map (java.lang.Integer and java.util.Map are in module java.base of loader 'bootstrap')",
     "output_type": "error",
     "text": "java.lang.ClassCastException: class java.lang.Integer cannot be cast to class java.util.Map (java.lang.Integer and java.util.Map are in module java.base of loader 'bootstrap')",
     "traceback": [
      "\u001b[1;31mjava.lang.ClassCastException: class java.lang.Integer cannot be cast to class java.util.Map (java.lang.Integer and java.util.Map are in module java.base of loader 'bootstrap')\u001b[0;0m"
     ]
    }
   ],
   "source": [
    "`(+ ~@(list 7 6 5))\n",
    "; => (clojure.core/+ 7 6 5)\n",
    "; see how the 765 is now flat with the parent list\n",
    "; again, Jupyter does not enjoy this either"
   ]
  },
  {
   "cell_type": "markdown",
   "metadata": {},
   "source": [
    "Well that could help! So we can unquote-splice our list `println`s after they pop out of our Macro. Where would we put our unquote splice symbol?"
   ]
  },
  {
   "cell_type": "code",
   "execution_count": null,
   "metadata": {},
   "outputs": [],
   "source": [
    "(defn meme-line\n",
    "  [text code]\n",
    "  `(println ~text (quote ~code)))\n",
    "\n",
    "(defmacro spark-joy-meme-generator\n",
    "  \"Makes memes in the form of 'This does (not) spark joy'\"\n",
    "  [joyful unjoyful]\n",
    "  `(do ~(map #(apply meme-line %)\n",
    "             [[\"This sparks joy:\" joyful]\n",
    "              [\"This does not spark joy:\" unjoyful]])))\n",
    "\n",
    "(spark-joy-meme-generator (6 * 2) (* 6 2))"
   ]
  },
  {
   "cell_type": "markdown",
   "metadata": {},
   "source": [
    "There! Now it all works! You're officially an expert novice on the use of Clojure Macros! Let's go back up to the `and` source code and see if we can parse it out together with our newfound knowledge.\n",
    "\n",
    "## Next Steps\n",
    "\n",
    "- Does anyone have anything we should go over again?\n",
    "- We could look at discord.clj as an example."
   ]
  }
 ],
 "metadata": {
  "kernelspec": {
   "display_name": "Clojure",
   "language": "clojure",
   "name": "clojure"
  },
  "language_info": {
   "codemirror_mode": "Clojure",
   "file_extension": ".clj",
   "mimetype": "text/x-clojure",
   "name": "Clojure",
   "nbconverter_exporter": "",
   "version": "1.9.0"
  }
 },
 "nbformat": 4,
 "nbformat_minor": 4
}
