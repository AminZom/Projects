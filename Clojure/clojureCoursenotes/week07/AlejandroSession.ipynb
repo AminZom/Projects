{
 "cells": [
  {
   "cell_type": "markdown",
   "metadata": {},
   "source": [
    "# Parralellism in Clojure\n",
    "\n",
    "###### REFS:\n",
    "https://www.braveclojure.com/concurrency/  \n",
    "https://www.technologyreview.com/s/421186/why-cpus-arent-getting-any-faster/  \n",
    "https://www.allprogrammingtutorials.com/tutorials/task-parallelism-vs-data-parallelism.php  \n",
    "https://clojuredocs.org/clojure.core/pmap\n",
    "\n",
    "# Before we begin:\n",
    "\n",
    "I found a very useful reference for strange characters in Clojure and recommend people save it.\n",
    "\n",
    "https://clojure.org/guides/weird_characters\n",
    "\n",
    "## Part 1: General Concurrency\n",
    "\n",
    "Concurrent computing refers to the form of computing where multiple computations are made at the same time (in parallel) in a system instead of sequentially. Each computation must have its own point of execution for a system to be trully concurrent. In other words, you require a processor for every process.\n",
    "\n",
    "CPU speeds are not increasing at the same rate as they used to. This is due to higher speeds requiring more power exponentially. More power -> more heat\n",
    "As a result, chip manufactures have been focusing on adding more cores.\n",
    "\n",
    "Which means....\n",
    "Parallelism is going to become increasingly important moving forward.\n",
    "\n",
    "\n",
    "### Advantages\n",
    "<img src=\"https://vignette.wikia.nocookie.net/meme/images/4/42/1385136139955.png/revision/latest?cb=20150207013804\" alt=\"drawing\" width=\"100\" align=\"left\"/>\n",
    "\n",
    "# Your program can be much faster\n",
    "T(parallel) = (T(serial)/ IndependentNumberOfProcesses) + T(overhead)\n",
    "\n",
    "### Disadvantages\n",
    "Parallel programs can be much more complex to write and much more complex to debug.\n",
    "\n",
    "### Pit Falls\n",
    "\n",
    "#### Deadlock\n",
    "    Multiple threads are wating for the same resource and the system comes to a halt.\n",
    "        e.g. Dining Philosophers\n",
    "    \n",
    "#### Reference Cell Problem\n",
    "    Multiple threads are reading/writing to the same location and memory and as a result the value depends on the execution order of the threads.\n",
    "\n",
    "#### Mutual Exclusion, a recipe for disaster\n",
    "    Multiple threads are reading/writing multiple instructions to a data source and as a result the data becomes jumbled.\n",
    "    \n",
    "    Imagine 2 threads trying to write recipes for to a file.\n",
    "        The first states:\n",
    "            \"Boil Water in pot\"\n",
    "            \"Add egg to pot\"\n",
    "            \"Wait 3 minutes\"\n",
    "            \"Remove Egg\"\n",
    "        The second states:\n",
    "            \"Mix Flour and sugar in pot\"\n",
    "            \"Mix in Milk\"\n",
    "            \"Put in microwave for 5 minutes\"\n",
    "            \n",
    "    If the file does not enforce mutual exclusion you can potentially end up with:\n",
    "            \"Boil Water in a pot\"\n",
    "            \"Mix Flour and sugar in pot\"\n",
    "            \"Mix in milk\"\n",
    "            \"Add egg to pot\"\n",
    "            \"Put in microwave for 5 minutes\"\n",
    "            \"Wait 3 minutes\"\n",
    "            \"Remove Egg\"\n",
    "            \n",
    "## Part 2: Futures\n",
    "\n",
    "Clojure has a really simple way of implementing parallel programming.\n",
    "These are called futures:"
   ]
  },
  {
   "cell_type": "code",
   "execution_count": 7,
   "metadata": {},
   "outputs": [
    {
     "data": {
      "text/plain": [
       "clojure.core$future_call$reify__8097@161f2089"
      ]
     },
     "execution_count": 7,
     "metadata": {},
     "output_type": "execute_result"
    }
   ],
   "source": [
    "(future (Thread/sleep 1000) (println \"wow\"))\n",
    "(println \"I can print because I'm on a different thread!\")"
   ]
  },
  {
   "cell_type": "markdown",
   "metadata": {},
   "source": [
    "future will place the corresponding code onto another thread as soon as possible and then continue running its own program.\n",
    "This is why the \"I can print...\" message will print before \"wow\" even if Thread/sleep is called.\n",
    "\n",
    "### References\n",
    "\n",
    "futures are very much \"set and forget\".... unless you require a result back from them.\n",
    "\n",
    "This is achieved by giving the future a reference tag that we can refer to later."
   ]
  },
  {
   "cell_type": "code",
   "execution_count": null,
   "metadata": {},
   "outputs": [],
   "source": [
    "(let [reference (future (Thread/sleep 1000) (+ 2 2))]\n",
    "    (println @reference) ; will not execute until sleep is complete\n",
    "    (println (deref reference)))"
   ]
  },
  {
   "cell_type": "markdown",
   "metadata": {},
   "source": [
    "In this snippit we are assigning the tag \"reference\" to the (future ...) statement.\n",
    "(println @reference) will not execute until the future is completed.\n",
    "\n",
    "\"deref\" is synonymous with \"@\"\n",
    "\n",
    "### Multiple Dereferences\n",
    "\n",
    "When you run a function with future it will only run once. Any subsequent calls to the reference will return a cached value of its orignal result."
   ]
  },
  {
   "cell_type": "code",
   "execution_count": null,
   "metadata": {},
   "outputs": [],
   "source": [
    "(let [reference (future (println \"This will only print once\"))]\n",
    "    (println @reference)\n",
    "    (println (deref reference)))"
   ]
  },
  {
   "cell_type": "markdown",
   "metadata": {},
   "source": [
    "### Time limits\n",
    "\n",
    "You can also set a time limit using deref:"
   ]
  },
  {
   "cell_type": "code",
   "execution_count": null,
   "metadata": {},
   "outputs": [],
   "source": [
    "; Here the thread is made to wait past the limit of 10ms and thus returns 5\n",
    "(deref (future (Thread/sleep 6000) (+ 2 2)) 10, 5)\n",
    "; Here the thread executes immediately and returns the result of the future\n",
    "(deref (future (+ 2 2)) 5, 5)"
   ]
  },
  {
   "cell_type": "markdown",
   "metadata": {},
   "source": [
    "### Realize?\n",
    "\n",
    "If you want to check if a future is done computing you can use \"realize?\""
   ]
  },
  {
   "cell_type": "code",
   "execution_count": null,
   "metadata": {},
   "outputs": [],
   "source": [
    "(let [reference (future (Thread/sleep 1000) (+ 2 2))]\n",
    "    (println (realized? reference))) ; This will return false since the thread is sleeping\n",
    "\n",
    "(let [reference (future (+ 2 2))]\n",
    "    (println (realized? reference))) ; This will return true since (+ 2 2) is executed immediately"
   ]
  },
  {
   "cell_type": "markdown",
   "metadata": {},
   "source": [
    "Something to make note of is that futures will not return exceptions until dereferenced. For example:"
   ]
  },
  {
   "cell_type": "code",
   "execution_count": null,
   "metadata": {},
   "outputs": [],
   "source": [
    "(def sequentialSub (-)) ; will break immediately\n",
    "\n",
    "; vs\n",
    "\n",
    "(def futureSub (future (-))) ; will not err until dereferenced\n",
    "(@futureSub)"
   ]
  },
  {
   "cell_type": "markdown",
   "metadata": {},
   "source": [
    "## Part 3: Delays\n",
    "\n",
    "Delays allow you to define a task without having to run it immediately. Calling the delay's reference will cause the thread to block until it's execution is complete."
   ]
  },
  {
   "cell_type": "code",
   "execution_count": null,
   "metadata": {},
   "outputs": [],
   "source": [
    "(def runWhenHungry\n",
    "    (delay (println \"You acquire a tin of beans!\")))"
   ]
  },
  {
   "cell_type": "markdown",
   "metadata": {},
   "source": [
    "Multiple dereferences will return nil... but what if I get hungry again in a bit?"
   ]
  },
  {
   "cell_type": "code",
   "execution_count": null,
   "metadata": {},
   "outputs": [],
   "source": [
    "(def runWhenHungry\n",
    "    (delay (let [message \"You eat some beans\"]\n",
    "               (println \"You acquire a tin of beans!\")\n",
    "               `(println ~message)))) ; Tried to do it with quoting so it would run but I \n",
    "                                      ; didn't manage it\n",
    "\n",
    "(def runWhenHungry\n",
    "    (delay (let [message \"You eat some beans\"]\n",
    "               (println \"You acquire a tin of beans!\")\n",
    "               `(println ~message))))\n",
    "\n",
    "@runWhenHungry"
   ]
  },
  {
   "cell_type": "markdown",
   "metadata": {},
   "source": [
    "This is useful for executing a task once a future is completed.\n",
    "For example:"
   ]
  },
  {
   "cell_type": "code",
   "execution_count": null,
   "metadata": {},
   "outputs": [],
   "source": [
    "(def menu [\"Fries\" \"Burger\" \"Drink\"]) ;  A list of items on the menu\n",
    "\n",
    "(defn callOrderNumber \n",
    "  [orderNumber]\n",
    "  (println \"Calling order: \" orderNumber))\n",
    "\n",
    "(defn deliverItem\n",
    "  [item]\n",
    "  (println item \" is ready for pickup\")\n",
    "  true)\n",
    "\n",
    "(let [notify (delay (callOrderNumber 1337))]\n",
    "  (doseq [item menu]\n",
    "    (future (deliverItem item)\n",
    "            (force notify)))) ; Force is the same as deref but it is more obvious"
   ]
  },
  {
   "cell_type": "markdown",
   "metadata": {},
   "source": [
    "We do not want to call the order number every time an item is ready, by using delay it is called once the first item is ready."
   ]
  },
  {
   "cell_type": "markdown",
   "metadata": {},
   "source": [
    "## Part 4: Promises\n",
    "\n",
    "A promise is like declaring a variable that you promise to define in the future. You do not have to define when or how that value is produced. You can then \"Deliver\" a result to that promise and dereference it. For example:"
   ]
  },
  {
   "cell_type": "code",
   "execution_count": null,
   "metadata": {},
   "outputs": [],
   "source": [
    "(def theAnswerToLifeTheUniverseAndEverything (promise))\n",
    ";many million years later\n",
    "(deliver theAnswerToLifeTheUniverseAndEverything (42))\n",
    "\n",
    "@theAnswerToLifeTheUniverseAndEverything\n",
    "; => 42"
   ]
  },
  {
   "cell_type": "markdown",
   "metadata": {},
   "source": [
    "You can only deliver on a promise once.\n",
    "\n",
    "If you try to dereference a promise before you've delivered a value the thread will block indefinitely (and the computer will lose its faith in your promises)\n",
    "\n",
    "As it stands this doesn't seem all that useful but it can be powerful when coupled with future to search for values in a list.\n",
    "\n",
    "This example from braveclojure does a great job at showing the power of promises.\n",
    "\n",
    "Suppose, for some reason, that you're interested in buying the smoothest yak butter on the market for under $100. You're too lazy to actually look through websites so you create a web scraper to find online yak-store URLs."
   ]
  },
  {
   "cell_type": "code",
   "execution_count": 8,
   "metadata": {},
   "outputs": [
    {
     "data": {
      "text/plain": [
       "#'beaker_clojure_shell_bc50c7e7-4133-42ba-8846-d416269c693d/satisfactory?"
      ]
     },
     "execution_count": 8,
     "metadata": {},
     "output_type": "execute_result"
    }
   ],
   "source": [
    "(def yak-butter-international\n",
    "  {:store \"Yak Butter International\"\n",
    "    :price 90\n",
    "    :smoothness 90})\n",
    "\n",
    "(def butter-than-nothing\n",
    "  {:store \"Butter Than Nothing\"\n",
    "   :price 150\n",
    "   :smoothness 83})\n",
    "\n",
    ";; This is the butter that meets our requirements\n",
    "(def baby-got-yak\n",
    "  {:store \"Baby Got Yak\"\n",
    "   :price 94\n",
    "   :smoothness 99})\n",
    "\n",
    "(defn mock-api-call\n",
    "  [result]\n",
    "  (Thread/sleep 1000)  ; This is to simulate an actual API call\n",
    "  result)\n",
    "\n",
    "(defn satisfactory?\n",
    "  \"If the butter meets our criteria, return the butter, else return false\"\n",
    "  [butter]\n",
    "  (and (<= (:price butter) 100)\n",
    "       (>= (:smoothness butter) 97)\n",
    "       butter))"
   ]
  },
  {
   "cell_type": "markdown",
   "metadata": {},
   "source": [
    "Sequentially we would have to call \"satisfactory?\" on each of the api calls to determine if such an elusive butter exists, as the following code shows:"
   ]
  },
  {
   "cell_type": "code",
   "execution_count": 9,
   "metadata": {},
   "outputs": [
    {
     "name": "stdout",
     "output_type": "stream",
     "text": [
      "\"Elapsed time: 3003.6574 msecs\"\n"
     ]
    },
    {
     "data": {
      "application/vnd.jupyter.widget-view+json": {
       "model_id": "d2a927d7-1fb0-40cc-a7c9-fc24ad6f3f7f",
       "version_major": 2,
       "version_minor": 0
      },
      "method": "display_data"
     },
     "metadata": {},
     "output_type": "display_data"
    }
   ],
   "source": [
    "(time (some (comp satisfactory? mock-api-call)\n",
    "            [yak-butter-international butter-than-nothing baby-got-yak]))\n",
    ";\"Elapsed time: 3000.7806 msecs\"\n",
    ";=> {:store \"Baby Got Yak\", :price 94, :smoothness 99}"
   ]
  },
  {
   "cell_type": "markdown",
   "metadata": {},
   "source": [
    "For reference, \"comp\" combines multiple functions into one and applies them to the parameters from right to left. \n",
    "More info here:\n",
    "https://clojuredocs.org/clojure.core/comp\n",
    "\n",
    "Ok brace yourselves, heres the same in parallel using promise/future"
   ]
  },
  {
   "cell_type": "code",
   "execution_count": null,
   "metadata": {},
   "outputs": [],
   "source": [
    "(time\n",
    " (let [butter-promise (promise)]\n",
    "   (doseq [butter [yak-butter-international butter-than-nothing baby-got-yak]]\n",
    "     (future (if-let [satisfactory-butter (satisfactory? (mock-api-call butter))]\n",
    "               (deliver butter-promise satisfactory-butter))))\n",
    "   (println \"And the winner is:\" @butter-promise)))\n",
    "; => \"Elapsed time: 1002.652 msecs\"\n",
    "; => And the winner is: {:store Baby Got Yak, :smoothness 99, :price 94}"
   ]
  },
  {
   "cell_type": "markdown",
   "metadata": {},
   "source": [
    "Let's break it down!\n",
    "\n",
    "```Clojure\n",
    "(time\n",
    "; times the function\n",
    " (let [butter-promise (promise)]\n",
    "     ; declares a promised called butter-promise\n",
    "   (doseq [butter [yak-butter-international butter-than-nothing baby-got-yak]]\n",
    "       ; simple do-seq, will iterate through all the stores\n",
    "     (future (if-let [satisfactory-butter (satisfactory? (mock-api-call butter))]\n",
    "                 ; For each store in the list, create a new thread which determines\n",
    "                 ; if the result of the api-call on the store is satisfactory\n",
    "               (deliver butter-promise satisfactory-butter))))\n",
    "                 ; if it IS satisfactory, deliver the store information to the\n",
    "                 ; \"butter-promise\" promise\n",
    "   (println \"And the winner is:\" @butter-promise)))\n",
    "    ; prints the promise\n",
    "```\n",
    "\n",
    "There is one logical issue with this function. Can somebody guess what it is?\n",
    "\n",
    "If you said the thread will lock if no satisfactory butter is found then you are correct!\n",
    "\n",
    "Now how do we fix it??\n",
    "\n",
    "If you recall I previously explained that we can set a time-out parameter when calling deref/\"@\". So if we change:\n",
    "\n",
    "```Clojure\n",
    "(println \"And the winner is:\" @butter-promise)))\n",
    "\n",
    "; to\n",
    "\n",
    "(println \"And the winner is:\" (deref butter-promise 3000 \"No Butter Found\"))))\n",
    "```\n",
    "And just like that, the problem is fixed. Except this is not really elegant since we're relying on time. What happens if we find more stores?\n",
    "\n",
    "### Promises as callbacks\n",
    "Promises can be used as JS-like callbacks in conjuction with future like so:"
   ]
  },
  {
   "cell_type": "code",
   "execution_count": null,
   "metadata": {},
   "outputs": [],
   "source": [
    "(let [waterBoilingTemp (promise)]\n",
    "  (future (println \"Water boils at:\" @waterBoilingTemp))\n",
    "  (Thread/sleep 4000)\n",
    "  (deliver waterBoilingTemp \"100 celsius\") nil)"
   ]
  },
  {
   "cell_type": "markdown",
   "metadata": {},
   "source": [
    "Since the print statement is on another thread it will block until the promise is fulfilled 4 seconds later when we deliver it.\n",
    "\n",
    "## Part 5: Some clojure macros/functions that are parallel\n",
    "\n",
    "- binding\n",
    "- pmap\n",
    "- pcalls\n",
    "- pvalues\n",
    "- with-redefs\n",
    "\n",
    "### binding\n",
    "\n",
    "```Clojure\n",
    "(binding bindings & body)\n",
    "```\n",
    "Works the same as let but generates the bindings in parallel and lets you bind function calls.\n",
    "\n"
   ]
  },
  {
   "cell_type": "code",
   "execution_count": null,
   "metadata": {},
   "outputs": [],
   "source": [
    "(defn mymax [x y]\n",
    "  (min x y))\n",
    "\n",
    "(defn find-max [x y]\n",
    "  (max x y))\n",
    "\n",
    "(let [max mymax]\n",
    "         (find-max 10 20))\n",
    ";=> 20\n",
    ";max is not being rebinded to mymax\n",
    "\n",
    "user=> (binding [max mymax]\n",
    "         (find-max 10 20))\n",
    "\n",
    ";=> 10\n",
    ";max is being rebinded to mymax"
   ]
  },
  {
   "cell_type": "markdown",
   "metadata": {},
   "source": [
    "### pmap\n",
    "\n",
    "```Clojure\n",
    "(pmap f coll) (pmap f coll & colls)\n",
    "```\n",
    "\n",
    "The same as map BUT it applies the function in parallel.\n"
   ]
  },
  {
   "cell_type": "code",
   "execution_count": 10,
   "metadata": {},
   "outputs": [
    {
     "data": {
      "text/plain": [
       "[2, 3, 4, 5, 6]"
      ]
     },
     "execution_count": 10,
     "metadata": {},
     "output_type": "execute_result"
    }
   ],
   "source": [
    "(pmap inc [1 2 3 4 5])"
   ]
  },
  {
   "cell_type": "markdown",
   "metadata": {},
   "source": [
    "### pcalls\n",
    "\n",
    "```Clojure\n",
    "(pcalls & fns)\n",
    "```\n",
    "\n",
    "Executes all the no argument fns in parallel"
   ]
  },
  {
   "cell_type": "code",
   "execution_count": 12,
   "metadata": {},
   "outputs": [
    {
     "name": "stdout",
     "output_type": "stream",
     "text": [
      "Wow\n",
      "this\n",
      "is\n",
      "in\n",
      "parallel\n"
     ]
    },
    {
     "ename": "Object",
     "evalue": " class clojure.lang.LazySeq, value cannot be displayed due to following error",
     "output_type": "error",
     "text": "Object: class clojure.lang.LazySeq, value cannot be displayed due to following error: java.lang.NullPointerException",
     "traceback": [
      "\u001b[1;31mObject: class clojure.lang.LazySeq, value cannot be displayed due to following error: java.lang.NullPointerException\u001b[0;0m"
     ]
    }
   ],
   "source": [
    "(pcalls (println \"Wow\") (println \"this\") (println \"is\") (println \"in\") (println \"parallel\"))"
   ]
  },
  {
   "cell_type": "markdown",
   "metadata": {},
   "source": [
    "### pvalues\n",
    "\n",
    "```Clojure\n",
    "(pvalues & exprs)\n",
    "```\n",
    "\n",
    "Returns a lazy sequence of computationally heavy expression"
   ]
  },
  {
   "cell_type": "markdown",
   "metadata": {},
   "source": [
    "### with-redefs\n",
    "\n",
    "```Clojure\n",
    "(with-redefs bindings & body)\n",
    "```\n",
    "\n",
    "Runs a body using bindings made in parallel"
   ]
  },
  {
   "cell_type": "markdown",
   "metadata": {},
   "source": [
    "## Practice!\n",
    "\n",
    "Q1: Create a countdown that calls a new future for every second of the countdown.\n",
    "Q2: \n",
    "\n",
    "Bonus Assignmnet: Help me figure out when to use atoms"
   ]
  },
  {
   "cell_type": "markdown",
   "metadata": {},
   "source": []
  }
 ],
 "metadata": {
  "kernelspec": {
   "display_name": "Clojure",
   "language": "clojure",
   "name": "clojure"
  },
  "language_info": {
   "codemirror_mode": "Clojure",
   "file_extension": ".clj",
   "mimetype": "text/x-clojure",
   "name": "Clojure",
   "nbconverter_exporter": "",
   "version": "1.9.0"
  },
  "toc": {
   "base_numbering": 1,
   "nav_menu": {},
   "number_sections": false,
   "sideBar": false,
   "skip_h1_title": false,
   "title_cell": "Table of Contents",
   "title_sidebar": "Contents",
   "toc_cell": false,
   "toc_position": {},
   "toc_section_display": false,
   "toc_window_display": false
  }
 },
 "nbformat": 4,
 "nbformat_minor": 4
}
