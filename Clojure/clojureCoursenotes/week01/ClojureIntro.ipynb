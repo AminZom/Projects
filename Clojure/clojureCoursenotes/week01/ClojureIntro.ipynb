{
 "cells": [
  {
   "cell_type": "markdown",
   "metadata": {},
   "source": [
    "# Clojure: getting started\n",
    "\n",
    "We're going to do a lot of the initial clojure programming inside jupyter simply because it is so easy to mix instructions with code samples in jupyter.   \n",
    "\n",
    "Eventually you'll need to install clojure and learn to use the REPL (read-eval-print-loop) and then to write proper applications with multiple files and build processes and all that.\n",
    "\n",
    "Today we're just going to play with the barest of basics in functional programming and clojure. Information and exercises based, in part, on: https://www.braveclojure.com/do-things/\n",
    "\n",
    "This is also useful: https://clojure.org/api/cheatsheet\n"
   ]
  },
  {
   "cell_type": "markdown",
   "metadata": {},
   "source": [
    "Clojure code consists of data structures (sometimes these are literals) and operations.  There really isn't much else to it.\n",
    "\n",
    "The code is written in *forms* which are evaluated to create a value.  \n",
    "\n",
    "The forms below are all literals and are all valid.   Try typing them in the code window and running to see what happens.\n",
    "\n",
    "`2\n",
    "\"Sisyphus\"\n",
    "[\"a\" \"vector\" \"of\" \"literals\"]`"
   ]
  },
  {
   "cell_type": "code",
   "execution_count": 3,
   "metadata": {},
   "outputs": [
    {
     "data": {
      "text/plain": [
       "[a, vector, list]"
      ]
     },
     "execution_count": 3,
     "metadata": {},
     "output_type": "execute_result"
    }
   ],
   "source": [
    "[\"a\" \"vector\" \"list\"]"
   ]
  },
  {
   "cell_type": "markdown",
   "metadata": {},
   "source": [
    "Literals are just as boring in clojure programming as they are in other languages.  We need to operate on values to produce other values in order to write a program.  \n",
    "\n",
    "If you consider programming at the core, that is really all it is in any language.\n",
    "\n",
    "So, a clojure operation is denoted by parentheses ().  The valid form for operations  is `(operator operand1 operand2 operand3 ...operandn)`\n",
    "\n",
    "There are no commas in the form.  The list of operator and operands is separated by whitespace.\n",
    "\n",
    "So `(+ 4 5 6)` will result in the value 15   and `(str \"Judi\" \"wrote these\" \"words\")` will result in the output *Judiwrote thesewords*\n"
   ]
  },
  {
   "cell_type": "code",
   "execution_count": 8,
   "metadata": {},
   "outputs": [
    {
     "data": {
      "text/plain": [
       "9"
      ]
     },
     "execution_count": 8,
     "metadata": {},
     "output_type": "execute_result"
    }
   ],
   "source": [
    "\n",
    "(+ (- 10 4) (+ 1 2))"
   ]
  },
  {
   "cell_type": "markdown",
   "metadata": {},
   "source": [
    "The structure is very consistent, regardless of purpose.   Valid forms can be embedded inside other valid forms to produce more complicated structures.\n",
    "\n",
    "Instead of *variables* and *assignments* in clojure we have the notion of *binding*.   A binding ties the name to the value much the same way as you use constants in other languages.   Variables actually aren't needed that much when programming in clojure other than as function parameters.\n",
    "\n",
    "To bind a value to a name we use the *def* operator\n",
    "`(def instructor \"Judi\")`\n",
    "\n",
    "Try it"
   ]
  },
  {
   "cell_type": "code",
   "execution_count": 10,
   "metadata": {},
   "outputs": [
    {
     "data": {
      "text/plain": [
       "Freyja"
      ]
     },
     "execution_count": 10,
     "metadata": {},
     "output_type": "execute_result"
    }
   ],
   "source": [
    "(def pet \"Freyja\")\n",
    "pet"
   ]
  },
  {
   "cell_type": "markdown",
   "metadata": {},
   "source": [
    "Three control flow operators will get you a very long ways in writing clojure code:\n",
    "- if\n",
    "- do\n",
    "- when\n",
    "\n",
    "*if* functions much the same as an if-else statement in any language\n",
    "\n",
    "`(if some-boolean-form then-form else-form-is-optional)`\n",
    "\n",
    "play with this one\n",
    "\n",
    "`(if (= 4 4) \"That was easy\" \"Not so fast\")`\n",
    "\n",
    "what happens if you don't include an else form?\n",
    "\n",
    "`(if (nil? 1) \"Shazaam\")`  Can you make this line print Shazaam?"
   ]
  },
  {
   "cell_type": "code",
   "execution_count": 18,
   "metadata": {},
   "outputs": [
    {
     "data": {
      "text/plain": [
       "owo"
      ]
     },
     "execution_count": 18,
     "metadata": {},
     "output_type": "execute_result"
    }
   ],
   "source": [
    "(if (nil? 1) \"Shazaam\" \"owo\")"
   ]
  },
  {
   "cell_type": "markdown",
   "metadata": {},
   "source": [
    "There is no mechanism in clojure to list a bunch of steps that are executed procedurally when the boolean condition is true like you would in other languages.\n",
    "\n",
    "`if (condition){\n",
    "    stmt1;\n",
    "    stmt2;\n",
    "    stmt3;\n",
    "    }`\n",
    "\n",
    "Instead you wrap the multiple statements with a *do* operator\n",
    "\n",
    "`(do (println \"here we are\") (println \"there we go\") (println \"again\"))`\n",
    "\n",
    "The *do* operator executes the forms it contains in order and returns the value of the last one. \n",
    "Try the form above.  Can you change it to return a value other than null?"
   ]
  },
  {
   "cell_type": "code",
   "execution_count": 19,
   "metadata": {},
   "outputs": [
    {
     "data": {
      "text/plain": [
       "null"
      ]
     },
     "execution_count": 19,
     "metadata": {},
     "output_type": "execute_result"
    }
   ],
   "source": [
    "(do (println \"here we are\") (println \"there we go\") (println \"again\"))\n"
   ]
  },
  {
   "cell_type": "markdown",
   "metadata": {},
   "source": [
    "So to make an if form that does more than one thing you can use a do form as the true and/or false form.\n",
    "\n",
    "`(if (= 4 4)\n",
    "  (do (println \"True detected\")\n",
    "      \"Second true thing\")\n",
    "  (do (println \"False detected\")\n",
    "      \"Second false thing\"))`"
   ]
  },
  {
   "cell_type": "code",
   "execution_count": 21,
   "metadata": {},
   "outputs": [
    {
     "data": {
      "text/plain": [
       "Second false thing"
      ]
     },
     "execution_count": 21,
     "metadata": {},
     "output_type": "execute_result"
    }
   ],
   "source": [
    "(if (= 4 5)\n",
    "  (do (println \"True detected\")\n",
    "      \"Second true thing\")\n",
    "  (do (println \"False detected\")\n",
    "      \"Second false thing\"))"
   ]
  },
  {
   "cell_type": "markdown",
   "metadata": {},
   "source": [
    "## TODO \n",
    "The above code only shows the value returned, not the things printed.  If we tried it in a proper REPL we'd see what was printed too.    We need to figure out how to make our interpreter in jupyter show us all the output. I ran out of time."
   ]
  },
  {
   "cell_type": "markdown",
   "metadata": {},
   "source": [
    "### when\n",
    "\n",
    "The when operator works much like an if  but has no else section and doesn't need the do operator\n",
    "\n",
    "`(when (= 4 4) (println \"True was found\") \"Shazaam!\")`"
   ]
  },
  {
   "cell_type": "code",
   "execution_count": 22,
   "metadata": {},
   "outputs": [
    {
     "data": {
      "text/plain": [
       "Shazaam!"
      ]
     },
     "execution_count": 22,
     "metadata": {},
     "output_type": "execute_result"
    }
   ],
   "source": []
  },
  {
   "cell_type": "markdown",
   "metadata": {},
   "source": [
    "Functions are just user-defined operators and are written and called with the same form syntax as everything else.\n",
    "\n",
    "`(defn message [urgency]\n",
    "(str \"I need to have a nap \"\n",
    "       (if (= urgency :high)\n",
    "         \"immediately!\"\n",
    "         \"today!\")))`\n",
    "         \n",
    "That function can be called with (message :high)  or (message :low)"
   ]
  },
  {
   "cell_type": "code",
   "execution_count": 23,
   "metadata": {},
   "outputs": [
    {
     "data": {
      "text/plain": [
       "#'beaker_clojure_shell_1ada634a-e027-4a1a-b277-67e9eca0d2eb/message"
      ]
     },
     "execution_count": 23,
     "metadata": {},
     "output_type": "execute_result"
    }
   ],
   "source": [
    "(defn message [urgency]\n",
    "(str \"I need to have a nap \"\n",
    "       (if (= urgency :high)\n",
    "         \"immediately!\"\n",
    "         \"today!\")))"
   ]
  },
  {
   "cell_type": "code",
   "execution_count": 24,
   "metadata": {},
   "outputs": [
    {
     "data": {
      "text/plain": [
       "I need to have a nap immediately!"
      ]
     },
     "execution_count": 24,
     "metadata": {},
     "output_type": "execute_result"
    }
   ],
   "source": [
    "(message :high)"
   ]
  },
  {
   "cell_type": "code",
   "execution_count": 25,
   "metadata": {},
   "outputs": [
    {
     "data": {
      "text/plain": [
       "I need to have a nap today!"
      ]
     },
     "execution_count": 25,
     "metadata": {},
     "output_type": "execute_result"
    }
   ],
   "source": [
    "(message :low)"
   ]
  },
  {
   "cell_type": "code",
   "execution_count": null,
   "metadata": {},
   "outputs": [],
   "source": []
  }
 ],
 "metadata": {
  "kernelspec": {
   "display_name": "Clojure",
   "language": "clojure",
   "name": "clojure"
  },
  "language_info": {
   "codemirror_mode": "Clojure",
   "file_extension": ".clj",
   "mimetype": "text/x-clojure",
   "name": "Clojure",
   "nbconverter_exporter": "",
   "version": "1.9.0"
  }
 },
 "nbformat": 4,
 "nbformat_minor": 4
}
