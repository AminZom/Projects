{
 "cells": [
  {
   "cell_type": "markdown",
   "metadata": {},
   "source": [
    "# Scalars in Clojure\n",
    "\n",
    "###### REFS:\n",
    "The Joy of Clojure - Part 2 Chapter 4\n",
    "\n",
    "### What are Scalars?\n",
    "A scalar data type represents a singular value of one of the following types:\n",
    "   \n",
    "    number, symbol, keyword, string, or character.\n",
    "\n",
    "Most of Clojure’s scalar data types are familiar to you, but there are nuances that should be observed.\n",
    "- - -\n",
    "## Numerical Precision\n",
    "<figure>\n",
    "    <img src=\"https://static2.srcdn.com/wordpress/wp-content/uploads/2019/06/kevin-the-office-stupidity.jpg?q=50&fit=crop&w=740&h=370\" alt=\"drawing\"  style=\"width:25%\" />\n",
    "    <figcaption>I do the numbers</figcaption>\n",
    "</figure>\n",
    "<br>\n",
    "Numbers in Clojure are by default as precise as they need to be.\n",
    "\n",
    "With enough memory, you are able to store a number as accurately as possible, but that is rarely needed.\n",
    "\n",
    "Raw Clojure functions and forms handle precision automatically, so it’s pretty trivial.\n",
    "\n",
    "Because Clojure encourages interoperability with its host platform, the matter of accuracy becomes less than certain. \n",
    "\n",
    "### Truncation\n",
    "\n",
    "Truncation is limiting accuracy for a floating-point number. When a number is truncated,<br> \n",
    "the percision is based on the number of bits that can fit into the storage space allowed by its representation. Clojure usually truncates numbers by default.\n",
    "\n",
    "To keep the floating point percision, we use the M literal. \n",
    "Note: \n",
    "- M = BigDecimal\n",
    "- N = BigInt     "
   ]
  },
  {
   "cell_type": "code",
   "execution_count": null,
   "metadata": {},
   "outputs": [],
   "source": [
    "(let [imadeapi 3.14159265358979323846264338327950288419716939937M]\n",
    "    (println (class imadeapi))\n",
    "    (println imadeapi))\n",
    "\n",
    "(println \"-------------\")\n",
    "\n",
    "(let [iatethepi 3.14159265358979323846264338327950288419716939937]\n",
    "    (println (class iatethepi))\n",
    "    (println iatethepi))"
   ]
  },
  {
   "cell_type": "markdown",
   "metadata": {},
   "source": [
    "Essentially *iatethepi* is truncated because the default Java double type is insufficient<br>\n",
    "and *imadeapi* uses Clojure's literal notation.\n",
    "\n",
    "### Promotion\n",
    "\n",
    "Clojure is able to automatically detect when overflow occurs, and it promotes the value to an appropriate numerical representation."
   ]
  },
  {
   "cell_type": "code",
   "execution_count": null,
   "metadata": {},
   "outputs": [],
   "source": [
    "(def x 5)\n",
    "\n",
    "(println \"Clojure sets numbers to long by defult->\" (class x))\n",
    "\n",
    ";(println \"Should still be long->\" (class (+ x 9000000000000000)))\n",
    "\n",
    ";(println \"Promoted to BigInt->\" (class (+ x 90000000000000000000)))\n",
    "\n",
    ";(println \"Promoted to Double->\" (class (+ x 1.0)))"
   ]
  },
  {
   "cell_type": "markdown",
   "metadata": {},
   "source": [
    "### Overflow\n",
    "\n",
    "When a numeric calculation results in a value that’s too big the bits of storage wrap around.<br>\n",
    "Promotion usually handles it, but when you’re dealing with numeric operations on primitive types an overflow can occur. "
   ]
  },
  {
   "cell_type": "code",
   "execution_count": null,
   "metadata": {},
   "outputs": [],
   "source": [
    ";; how Clojure handles integer overflows\n",
    ";(+ Long/MAX_VALUE Long/MAX_VALUE)\n",
    "\n",
    ";; you can use unchecked-add to allow the overflow to happen\n",
    ";(unchecked-add Long/MAX_VALUE Long/MAX_VALUE)\n",
    "\n",
    "    ;; unchecked-add apparently keeps numbers at Long even if I cast them\n",
    "    ;(class (unchecked-add (int 1) (int 1)))\n",
    "\n",
    "    ;; Note: Using integer? tests if it's a math integer, not a Java Integer\n",
    "    ;(integer? (+ 1 1))\n",
    "\n",
    "    ;; integer? returns true for BigInts as well. If you don't want this behavior, you can \n",
    "    ;; use the int? predicate instead\n",
    "    ;(println \"should return true ->\"(integer? 13N))\n",
    "    ;(println \"should return false ->\"(int? 13N))\n",
    "\n",
    ";; anyway, to overflow integers you use unchecked-add-int\n",
    ";(unchecked-add-int IntegerA/MX_VALUE Integer/MAX_VALUE)\n",
    "\n",
    ";; --what happens if we add 2 doubles?\n",
    ";(+ Double/MAX_VALUE Double/MAX_VALUE)"
   ]
  },
  {
   "cell_type": "markdown",
   "metadata": {},
   "source": [
    "When is an overflow desireable? I have no idea.\n",
    "\n",
    "\n",
    "### Underflow\n",
    "\n",
    "The number is so small it collapses to 0."
   ]
  },
  {
   "cell_type": "code",
   "execution_count": null,
   "metadata": {},
   "outputs": [],
   "source": [
    "(float 0.0000000000000000000000000000000000000000000001)"
   ]
  },
  {
   "cell_type": "markdown",
   "metadata": {},
   "source": [
    "### Rounding errors\n",
    "\n",
    "There’s a famous case involving the failure of a Patriot missile caused by a rounding error, resulting in many deaths.<br>\n",
    "This occurred due to a rounding error in the representation of a count register’s update interval.<br>\n",
    "The timer register was meant to update once every 0.1 seconds, but an approximation was used instead and over the course of 100 hours there was a timing error of .34 seconds."
   ]
  },
  {
   "cell_type": "code",
   "execution_count": null,
   "metadata": {},
   "outputs": [],
   "source": [
    "(let [approx-interval  (/ 209715 2097152)\n",
    "      actual-interval (/ 1 10)\n",
    "      hours           (* 3600 100 10)\n",
    "      actual-total    (double (* hours actual-interval))\n",
    "      approx-total    (double (* hours approx-interval))]\n",
    "    (- actual-total approx-total))"
   ]
  },
  {
   "cell_type": "markdown",
   "metadata": {},
   "source": [
    "Can you spot and fix what is wrong with the following code?"
   ]
  },
  {
   "cell_type": "code",
   "execution_count": null,
   "metadata": {},
   "outputs": [],
   "source": [
    "(+ 0.1 0.1 0.1 0.1 0.1 0.1 0.1 0.1 0.1 0.1 )\n",
    "\n",
    ";(+ 0.1M 0.1M 0.1M 0.1 0.1M 0.1M 0.1M 0.1M 0.1M 0.1M)\n",
    "\n",
    "\n",
    ";;ok now tell me why this one works?\n",
    ";(+ 0.1M 0.1M 0.1M 0.1 0.1M 0.1M 0.1M 0.1M 0.1 0.1M)"
   ]
  },
  {
   "cell_type": "markdown",
   "metadata": {},
   "source": [
    "- - -\n",
    "\n",
    "## Rationals\n",
    "\n",
    "Clojure provides a data type that theoretically lets you retain perfect accuracy.\n",
    "\n",
    "Clojure provides a decimal type that’s boundless relative to your computer memory, but decimal operations can be easily corrupted and are not as accurate."
   ]
  },
  {
   "cell_type": "code",
   "execution_count": null,
   "metadata": {},
   "outputs": [],
   "source": [
    ";; can't store big numbers\n",
    "(def x 1.0E-4300000000M)"
   ]
  },
  {
   "cell_type": "code",
   "execution_count": null,
   "metadata": {},
   "outputs": [],
   "source": [
    ";; associativity should have 17 for both of them\n",
    "(def a  1.0e50)\n",
    "(def b  -1.0e50)\n",
    "(def c  17.0e00)\n",
    "\n",
    ";(+ (+ a b) c);;=> 17.0\n",
    "\n",
    ";(+ a (+ b c));;=> 0.0"
   ]
  },
  {
   "cell_type": "markdown",
   "metadata": {},
   "source": [
    "How to fix this? Use the rationalize function. Try it yourself\n",
    "\n",
    "Clojure has the following functions to help with rationals:\n",
    "- rationalize\n",
    "- rational?\n",
    "- ratio?\n",
    "\n",
    "\n",
    "Some rules to follow to maintain perfect accuracy\n",
    "- Never use Java math libraries unless they return results of BigDecimal.\n",
    "- Don’t rationalize values that are Java float or double primitives.\n",
    "- If you must write your own high-precision calculations, do so with rationals.\n",
    "- Only convert to a floating-point representation as a last resort.\n",
    "\n",
    "---\n",
    "\n",
    "## Keywords\n",
    "\n",
    "keywords are self-evaluating types that are prefixed byone or more colons.<br>\n",
    "Keywords always refer to themselves, whereas symbols don’t.\n",
    "\n",
    "One way of using keywords is to use them as keys (as shown below).<br>\n",
    "\n",
    "Another way of using keywords is as functions. How would you change the code below to use keywords as functions? "
   ]
  },
  {
   "cell_type": "code",
   "execution_count": null,
   "metadata": {},
   "outputs": [],
   "source": [
    ";(keyword? 'blues)\n",
    ";(keyword? :blues)\n",
    ";(symbol? :blues)\n",
    ";(symbol? 'blues)\n",
    "\n",
    ";; keywords refer to themselves whereas symbols are not\n",
    ";(identical? :a :a)\n",
    ";(identical? 'a 'a)\n",
    " \n",
    ";(= :a :a)\n",
    ";(= 'a 'a)"
   ]
  },
  {
   "cell_type": "code",
   "execution_count": null,
   "metadata": {},
   "outputs": [],
   "source": [
    "(def population {:zombies 2700, :humans 9}) ;; how to define using keyword\n",
    "\n",
    "(get population :zombies) ;; should be => 2700\n",
    "\n",
    "(println (/ (get population :zombies)\n",
    "            (get population :humans))\n",
    "         \"zombies per capita\") ;; should output 300 zombies per capita\n",
    "\n",
    ";; you can also set keywords like this\n",
    ";(keyword \"test\")"
   ]
  },
  {
   "cell_type": "markdown",
   "metadata": {},
   "source": [
    "An important reason to use keywords as map keys is that they’re also functions that take a map as an argument to perform lookups of themselves.\n",
    "\n",
    "Keywords can also be used as enums.\n",
    "\n",
    "<b>Keywords and namespaces</b>\n",
    "\n",
    "Keywords don’t belong to any specific namespace, although they may appear to at certain times"
   ]
  },
  {
   "cell_type": "code",
   "execution_count": null,
   "metadata": {},
   "outputs": [],
   "source": [
    ";; simple keyword\n",
    ":not-in-ns"
   ]
  },
  {
   "cell_type": "code",
   "execution_count": null,
   "metadata": {},
   "outputs": [],
   "source": [
    ";; this is also not in a namespace, but it appears to be\n",
    "::also-not-in-ns"
   ]
  },
  {
   "cell_type": "code",
   "execution_count": null,
   "metadata": {},
   "outputs": [],
   "source": [
    "(defn do-blowfish [directive]\n",
    "    (case directive\n",
    "        ;; these are only prefixed to look like they belong to a namespace\n",
    "      \n",
    "        :aquarium/blowfish (println \"feed the fish\")\n",
    "        :crypto/blowfish   (println \"encode the message\")\n",
    "        :blowfish          (println \"not sure what to do\")))\n",
    "(ns crypto)\n",
    "(user/do-blowfish :blowfish) ;; not sure what to do\n",
    "(user/do-blowfish ::blowfish) ;; encode the message\n",
    "\n",
    "(ns aquarium)\n",
    "(user/do-blowfish :blowfish) ;; not sure what to do\n",
    "(user/do-blowfish ::blowfish) ;; feed the fish"
   ]
  },
  {
   "cell_type": "markdown",
   "metadata": {},
   "source": [
    "When switching to different namespaces using ns, you can use the namespace-qualified keyword syntax to ensure that the correct domain-specific code path is executed.\n",
    "\n",
    "---\n",
    "\n",
    "## Regex\n",
    "\n",
    "_\"Some people, when confronted with a problem, think 'I know, I'll use regular expressions.' Now they have two problems.\"_ - Jamie Zawinski\n",
    "\n",
    "Regular expressions are a powerful and compact way to find specific patterns in text strings.\n",
    "\n",
    "A literal regex pattern looks like:\n",
    "    \n",
    "    #\"this\"\n",
    "   \n",
    "this complies into a regex pattern object that can be used with:\n",
    "- Java interop method calls\n",
    "- Clojure regex functions"
   ]
  },
  {
   "cell_type": "code",
   "execution_count": null,
   "metadata": {},
   "outputs": [],
   "source": [
    "(class #\"test\")"
   ]
  },
  {
   "cell_type": "markdown",
   "metadata": {},
   "source": [
    "Regex option flags:\n",
    "\n",
    "| Flag | Flag name       | description |\n",
    "|:---: |:---             |:---         |\n",
    "|  d   | UNIX_LINES      | (.^\\$) match only with unix line terminator /n|\n",
    "|  i   | CASE_INSENSITIVE| disregards upper and lower case characters|\n",
    "|  x   | COMMENTS        |  ignores whitespaces and comments |\n",
    "|  m   | MULTILINE       |  (^\\$) match near line terminators instead of just the begining of input string |\n",
    "|  s   | DOTALL          |  . matches any character, including line terminators |\n",
    "|  u   | UNICODE_CASE    | Causes the *i* flag to use Unicode case instead of ASCII |"
   ]
  },
  {
   "cell_type": "code",
   "execution_count": null,
   "metadata": {},
   "outputs": [],
   "source": [
    "(re-matches #\"(?i)you should bring in doughnuts\" \"YoU shOuLd bRinG iN DougHNuTs\")"
   ]
  },
  {
   "cell_type": "markdown",
   "metadata": {},
   "source": [
    "Regex functions:\n",
    "\n",
    "re-matcher :  Returns an instance of java.util.regex.Matcher, for use, e.g. in re-find.\n",
    "\n",
    "re-find    :  Returns the next regex match, if any, of string to pattern, using java.util.regex.Matcher.find().  Uses re-groups to return the groups.\n",
    "\n",
    "re-groups  :  Returns the groups from the most recent match/find. (Just use re-find)\n",
    "\n",
    "re-pattern :  Lets you define the regex pattern without using the literal\n",
    "\n",
    "re-matches :  Returns the match of string to pattern, using java.util.regex.Matcher.matches(). Uses re-groups to return the groups."
   ]
  },
  {
   "cell_type": "code",
   "execution_count": null,
   "metadata": {},
   "outputs": [],
   "source": [
    ";; re-matcher example\n",
    "(re-matcher #\"\\d+\" \"abc12345def\")"
   ]
  },
  {
   "cell_type": "code",
   "execution_count": null,
   "metadata": {},
   "outputs": [],
   "source": [
    ";; re-find \n",
    "(def matcher (re-matcher #\"\\d+\" \"abc12345def\"))\n",
    "    ;; \\d+ finds sequence of numbers in string\n",
    "(re-find matcher)\n",
    ";; or \n",
    ";(re-find #\"\\d+\" \"abc12345def\"))"
   ]
  },
  {
   "cell_type": "code",
   "execution_count": null,
   "metadata": {},
   "outputs": [],
   "source": [
    "(def phone-number \"672-345-456-3212\")\n",
    "(def matcher (re-matcher #\"\\d+\" phone-number))\n",
    "\n",
    "(println (re-find matcher))\n",
    "(println (re-find matcher))\n",
    "(println (re-find matcher))\n",
    "(println (re-find matcher))\n",
    "(println (re-find matcher))\n",
    "\n",
    ";; can you rewrite this code to loop through instead?"
   ]
  },
  {
   "cell_type": "code",
   "execution_count": null,
   "metadata": {},
   "outputs": [],
   "source": [
    ";; re-groups\n",
    "(def phone-number \"672-345-456-3212\")\n",
    "(def matcher (re-matcher #\"\\d+\" phone-number))\n",
    "(re-find matcher)\n",
    "(re-groups matcher)"
   ]
  },
  {
   "cell_type": "code",
   "execution_count": null,
   "metadata": {},
   "outputs": [],
   "source": [
    ";; re-pattern\n",
    "(re-pattern \"\\\\d+\")\n",
    ";; or you can just define the literal #\"\\d+\" \n",
    "\n",
    ";(re-find (re-pattern \"\\\\d+\") \"abc123def\")\n",
    ";(re-find #\"\\d+\" \"abc123def\")"
   ]
  },
  {
   "cell_type": "code",
   "execution_count": null,
   "metadata": {},
   "outputs": [],
   "source": [
    ";; re-matches example\n",
    "(re-matches #\"abc\" \"abc\") ;; if there is a match, it returns a string\n",
    "\n",
    "(re-matches #\"(.*)\\d+(.*)\" \"abc12345def\") ;; if there is a match but there are groups, then it returns a vector"
   ]
  },
  {
   "cell_type": "markdown",
   "metadata": {},
   "source": [
    "As it turns out, Java's Matcher object mutates in a non-thread-safe way, so avoid re-matcher, re-groups, re-find as much as you can.\n",
    "\n",
    "You can also replace regex matches within a string and split strings up"
   ]
  },
  {
   "cell_type": "code",
   "execution_count": null,
   "metadata": {},
   "outputs": [],
   "source": [
    "(clojure.string/replace \"mississippi\" #\"i..\" \"obb\")\n",
    ";(clojure.string/replace \"mississippi\" #\"(i)\" \"$1$1\") ;; $1 refers to the regex group number\n",
    ";(clojure.string/split \"This is a string    that I am splitting.\" #\"\\s+\")"
   ]
  }
 ],
 "metadata": {
  "kernelspec": {
   "display_name": "Clojure",
   "language": "clojure",
   "name": "clojure"
  },
  "language_info": {
   "codemirror_mode": "Clojure",
   "file_extension": ".clj",
   "mimetype": "text/x-clojure",
   "name": "Clojure",
   "nbconverter_exporter": "",
   "version": "1.9.0"
  }
 },
 "nbformat": 4,
 "nbformat_minor": 4
}
