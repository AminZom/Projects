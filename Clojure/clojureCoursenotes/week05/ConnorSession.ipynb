{
 "cells": [
  {
   "cell_type": "markdown",
   "metadata": {},
   "source": [
    "# Week 05 - Connor's Class Session\n",
    "\n",
    "## Boolean Logic\n",
    "\n",
    "A lot of material I cover here was taken from the online textbook so feel free to take a [look here](https://www.braveclojure.com/do-things/).\n",
    "\n",
    "I just wanted to touch quickly on some boolean logic in clojure because I was reading up on it and it was really neat. You'd think \"*It's just booleans, how complicated can it be?*\"\n",
    "\n",
    "So to start off, let's outline some basic boolean operators: `and`, `or`, and `not` (this one's not as fun so I don't really talk about it).  \n",
    "Like a lot of other functions in clojure, `and` and `or` have variable-arity. And they both evaluate each operand one at a time.  \n",
    "`and` will return either the first instance of false, or the last instance of true.  \n",
    "`or` is the opposite, either returning the first instance of true or the last instance of false.  \n",
    "Feel free to mess around with some of these examples.  "
   ]
  },
  {
   "cell_type": "code",
   "execution_count": 1,
   "metadata": {},
   "outputs": [
    {
     "data": {
      "text/plain": [
       "false"
      ]
     },
     "execution_count": 1,
     "metadata": {},
     "output_type": "execute_result"
    }
   ],
   "source": [
    "(and true true false true)\n",
    ";;(and true true true)\n",
    ";;(or false false false)\n",
    ";;(or false false true false)"
   ]
  },
  {
   "cell_type": "markdown",
   "metadata": {},
   "source": [
    "So big whoop, right? That's pretty much how boolean logic works in any other programming language. The operator returns `true` or `false` based on the evaluation of whatever operartions you give it.  \n",
    "**FALSE**  \n",
    "The thing is, the `and` and `or` operaters do return based on whether or not the results of the operands return true/false. But the **value** that `and` and `or` return is actually whatever the passing operand returns. It's kind of hard to explain, but essentially the operation\n",
    "```Clojure\n",
    "(or (= 1 2) (< 2 5) )\n",
    "```\n",
    "will return `true` not only because the condition is true, but because that is the result of `(< 2 5)`"
   ]
  },
  {
   "cell_type": "code",
   "execution_count": 2,
   "metadata": {},
   "outputs": [
    {
     "data": {
      "text/plain": [
       "true"
      ]
     },
     "execution_count": 2,
     "metadata": {},
     "output_type": "execute_result"
    }
   ],
   "source": [
    "(or (= 1 2) (< 2 5) (= 5 6) )"
   ]
  },
  {
   "cell_type": "markdown",
   "metadata": {},
   "source": [
    "But once again you're probably asking SO WHAT? This all seems like an overly complicated way of explaining very simple boolean logic.  \n",
    "The final piece of the puzzle as to why I find this so interesting is because the `and` and `or` operators are actually checking for *truthiness* and *falsiness*.  \n",
    "In clojure, falsey values are `false` and `nil`. Everything else is truthy.\n",
    "\n",
    "And with that there's a few interesting things we can do.\n",
    "See what is returned from the follwing boolean expression."
   ]
  },
  {
   "cell_type": "code",
   "execution_count": 3,
   "metadata": {},
   "outputs": [
    {
     "data": {
      "text/plain": [
       "clojure.core$_PLUS_@7aa26d3f"
      ]
     },
     "execution_count": 3,
     "metadata": {},
     "output_type": "execute_result"
    }
   ],
   "source": [
    "( or (= 1 2) (> 1 6) + (map inc [1 2 3]) )"
   ]
  },
  {
   "cell_type": "markdown",
   "metadata": {},
   "source": [
    "REPL will spit out the string representation of the addition function. So you could do something like this:"
   ]
  },
  {
   "cell_type": "code",
   "execution_count": 4,
   "metadata": {},
   "outputs": [
    {
     "data": {
      "text/plain": [
       "5"
      ]
     },
     "execution_count": 4,
     "metadata": {},
     "output_type": "execute_result"
    }
   ],
   "source": [
    "(def plus (and (= 1 1) +))\n",
    "(plus 2 3)"
   ]
  },
  {
   "cell_type": "markdown",
   "metadata": {},
   "source": [
    "Also not that big a deal, because you could just call `+`. And that's a fair criticism, but it's still kind of cool, right?  \n",
    "It's also worth noting that due to all these properties, anything that returns a value of `nil` will also result in nil being returned from a boolean operation.  \n",
    "\n",
    "Here's me attempting and failing to find a good use for this knowledge."
   ]
  },
  {
   "cell_type": "code",
   "execution_count": null,
   "metadata": {},
   "outputs": [],
   "source": [
    "(and true false nil false true)"
   ]
  },
  {
   "cell_type": "code",
   "execution_count": null,
   "metadata": {},
   "outputs": [],
   "source": [
    "(some false? [true true true false])"
   ]
  },
  {
   "cell_type": "markdown",
   "metadata": {},
   "source": [
    "So here's a question instead. Can you write a function that returns true if a collection contains only truthy values, and false otherwise?  \n",
    "Note: returning null doesn't count.  \n",
    "Also Note: you don't have to use this format, I just wanted to have a way of checking if a falsey value was actually false or nil. You do, however, have to use the values vector."
   ]
  },
  {
   "cell_type": "code",
   "execution_count": 18,
   "metadata": {},
   "outputs": [
    {
     "ename": "java.lang.ClassCastException",
     "evalue": " java.lang.Boolean cannot be cast to clojure.lang.IFn",
     "output_type": "error",
     "text": "java.lang.ClassCastException: java.lang.Boolean cannot be cast to clojure.lang.IFn\r\n\tat clojure.core$every_QMARK_.invokeStatic(core.clj:2673)\r\n\tat clojure.core$every_QMARK_.invoke(core.clj:2664)\r\n\tat beaker_clojure_shell_a39abc05_7f87_448a_aaf9_09121d47a6b0$myfunc.invokeStatic(Unknown Source)\r\n\tat beaker_clojure_shell_a39abc05_7f87_448a_aaf9_09121d47a6b0$myfunc.invoke(Unknown Source)\r\n\tat beaker_clojure_shell_a39abc05_7f87_448a_aaf9_09121d47a6b0$eval220.invokeStatic(Unknown Source)\r\n\tat beaker_clojure_shell_a39abc05_7f87_448a_aaf9_09121d47a6b0$eval220.invoke(Unknown Source)\r\n\tat clojure.lang.Compiler.eval(Compiler.java:7062)\r\n\tat clojure.lang.Compiler.load(Compiler.java:7514)\r\n\tat clojure.lang.Compiler.load(Compiler.java:7461)\r\n\tat clojure.core$load_reader.invokeStatic(core.clj:4053)\r\n\tat clojure.core$load_string.invokeStatic(core.clj:4055)\r\n\tat clojure.core$load_string.invoke(core.clj:4055)\r\n\tat beaker_clojure_shell_a39abc05_7f87_448a_aaf9_09121d47a6b0$run_str_a39abc05_7f87_448a_aaf9_09121d47a6b0.invokeStatic(Unknown Source)\r\n\tat beaker_clojure_shell_a39abc05_7f87_448a_aaf9_09121d47a6b0$run_str_a39abc05_7f87_448a_aaf9_09121d47a6b0.invoke(Unknown Source)\r\n\tat clojure.lang.Var.invoke(Var.java:381)\r\n\tat com.twosigma.beakerx.clojure.evaluator.ClojureEvaluator.runCode(ClojureEvaluator.java:171)\r\n\tat com.twosigma.beakerx.clojure.evaluator.ClojureCodeRunner.call(ClojureCodeRunner.java:47)\r\n\tat com.twosigma.beakerx.clojure.evaluator.ClojureCodeRunner.call(ClojureCodeRunner.java:28)\r\n\tat java.util.concurrent.FutureTask.run(FutureTask.java:266)\r\n\tat java.lang.Thread.run(Thread.java:745)\r\n",
     "traceback": [
      "\u001b[1;31mjava.lang.ClassCastException: java.lang.Boolean cannot be cast to clojure.lang.IFn\u001b[0;0m",
      "\u001b[1;31m\tat clojure.core$every_QMARK_.invokeStatic(core.clj:2673)\u001b[0;0m",
      "\u001b[1;31m\tat clojure.core$every_QMARK_.invoke(core.clj:2664)\u001b[0;0m",
      "\u001b[1;31m\tat beaker_clojure_shell_a39abc05_7f87_448a_aaf9_09121d47a6b0$myfunc.invokeStatic(Unknown Source)\u001b[0;0m",
      "\u001b[1;31m\tat beaker_clojure_shell_a39abc05_7f87_448a_aaf9_09121d47a6b0$myfunc.invoke(Unknown Source)\u001b[0;0m",
      "\u001b[1;31m\tat beaker_clojure_shell_a39abc05_7f87_448a_aaf9_09121d47a6b0$eval220.invokeStatic(Unknown Source)\u001b[0;0m",
      "\u001b[1;31m\tat beaker_clojure_shell_a39abc05_7f87_448a_aaf9_09121d47a6b0$eval220.invoke(Unknown Source)\u001b[0;0m",
      "\u001b[1;31m\tat clojure.lang.Compiler.eval(Compiler.java:7062)\u001b[0;0m",
      "\u001b[1;31m\tat clojure.lang.Compiler.load(Compiler.java:7514)\u001b[0;0m",
      "\u001b[1;31m\tat clojure.lang.Compiler.load(Compiler.java:7461)\u001b[0;0m",
      "\u001b[1;31m\tat clojure.core$load_reader.invokeStatic(core.clj:4053)\u001b[0;0m",
      "\u001b[1;31m\tat clojure.core$load_string.invokeStatic(core.clj:4055)\u001b[0;0m",
      "\u001b[1;31m\tat clojure.core$load_string.invoke(core.clj:4055)\u001b[0;0m",
      "\u001b[1;31m\tat beaker_clojure_shell_a39abc05_7f87_448a_aaf9_09121d47a6b0$run_str_a39abc05_7f87_448a_aaf9_09121d47a6b0.invokeStatic(Unknown Source)\u001b[0;0m",
      "\u001b[1;31m\tat beaker_clojure_shell_a39abc05_7f87_448a_aaf9_09121d47a6b0$run_str_a39abc05_7f87_448a_aaf9_09121d47a6b0.invoke(Unknown Source)\u001b[0;0m",
      "\u001b[1;31m\tat clojure.lang.Var.invoke(Var.java:381)\u001b[0;0m",
      "\u001b[0;31m\tat com.twosigma.beakerx.clojure.evaluator.ClojureEvaluator.runCode(ClojureEvaluator.java:171)\u001b[0;0m",
      "\u001b[0;31m\tat com.twosigma.beakerx.clojure.evaluator.ClojureCodeRunner.call(ClojureCodeRunner.java:47)\u001b[0;0m",
      "\u001b[0;31m\tat com.twosigma.beakerx.clojure.evaluator.ClojureCodeRunner.call(ClojureCodeRunner.java:28)\u001b[0;0m",
      "\u001b[0;31m\tat java.util.concurrent.FutureTask.run(FutureTask.java:266)\u001b[0;0m",
      "\u001b[0;31m\tat java.lang.Thread.run(Thread.java:745)\u001b[0;0m"
     ]
    }
   ],
   "source": [
    "(def values [true true true nil])\n",
    "(defn myfunc [xs] (every? true xs)) ;;write your function here\n",
    "(if (myfunc values)\n",
    "    \"You're returning true.\"\n",
    "    (if (myfunc values) \"You're returning nil. Try again.\" \"Hey you did it, you're returning false\"))"
   ]
  },
  {
   "cell_type": "code",
   "execution_count": 14,
   "metadata": {},
   "outputs": [
    {
     "data": {
      "text/plain": [
       "null"
      ]
     },
     "execution_count": 14,
     "metadata": {},
     "output_type": "execute_result"
    }
   ],
   "source": [
    ";;(def ingredients [\"bread\" \"cucumber\" \"pepper\" \"tomato\" \"lettuce\" \"onion\"])\n",
    ";;(def my-strings [\"one\" \"two\" \"three\"])\n",
    ";;(interpose \", \" my-strings)"
   ]
  },
  {
   "cell_type": "markdown",
   "metadata": {},
   "source": [
    "# Functions\n",
    "I think everyone has at least written a function at this point but I want to go a little more into detail about how they work and what you can do with them that maybe everyone doesn't know.\n",
    "\n",
    "## Parameters and Arity\n",
    "Arity refers to the number of arguements/operands in a function. You can define the same function with a different number of parameters:"
   ]
  },
  {
   "cell_type": "code",
   "execution_count": null,
   "metadata": {},
   "outputs": [],
   "source": [
    "(defn multi-arity\n",
    "  ([x y]\n",
    "     (str \"I got two beans, a \" x \" bean and a \" y \" bean\"))\n",
    "  ;; 2-arity arguments and body\n",
    "  ([x]\n",
    "     (str \"I got a \" x \" bean\"))\n",
    "  ;; 1-arity arguments and body\n",
    "  ([]\n",
    "     (str \"I got no beans\")))\n",
    "\n",
    "(multi-arity)"
   ]
  },
  {
   "cell_type": "markdown",
   "metadata": {},
   "source": [
    "Something cool you can do with this is define one of your functions with a function of a different arity:"
   ]
  },
  {
   "cell_type": "code",
   "execution_count": null,
   "metadata": {},
   "outputs": [],
   "source": [
    "(defn bean-gift\n",
    "  \"Describe the kind of bean you got from someone\"\n",
    "  ([name bean]\n",
    "     (str \"I got a \" bean \" bean from \" name \"! I'm so grateful!\"))\n",
    "  ([name]\n",
    "     (bean-gift name \"brown\")))\n"
   ]
  },
  {
   "cell_type": "markdown",
   "metadata": {},
   "source": [
    "You can also define variable-arity by including the rest parameter `& <parameter>`.  \n",
    "\n",
    "The character `&` will shove a bunch of arguments into whatever parameter follows it and store them as a list.  \n",
    "You can also include other parameters in addition to the rest pararmeter, but the rest parameter must always come last.  \n",
    "Here is an example:"
   ]
  },
  {
   "cell_type": "code",
   "execution_count": 27,
   "metadata": {},
   "outputs": [
    {
     "data": {
      "text/plain": [
       "Hi, Santa, here are my favorite things: beans, goblins, a nice stroll on the beach."
      ]
     },
     "execution_count": 27,
     "metadata": {},
     "output_type": "execute_result"
    }
   ],
   "source": [
    "(defn favorite-things\n",
    "  [name & things]\n",
    "  (str \"Hi, \" name \", here are my favorite things: \"\n",
    "       (clojure.string/join \", \" things) \".\"))\n",
    "\n",
    "(favorite-things \"Santa\" \"beans\" \"goblins\" \"a nice stroll on the beach\")"
   ]
  },
  {
   "cell_type": "markdown",
   "metadata": {},
   "source": [
    "Quick Quiz: Write a function that takes in one parameter, a string literal for a vegetable, and appends that parmater to another string of your choosing.  \n",
    "Then using that function, write another function that makes use of both the rest parameter and your first function to print off multiple sentences."
   ]
  },
  {
   "cell_type": "code",
   "execution_count": 25,
   "metadata": {},
   "outputs": [
    {
     "name": "stdout",
     "output_type": "stream",
     "text": [
      "Ale can have a little Potato, just as a snack\n",
      "Ale can have a little Salami, just as a snack\n"
     ]
    },
    {
     "data": {
      "text/plain": [
       "[null, null]"
      ]
     },
     "execution_count": 25,
     "metadata": {},
     "output_type": "execute_result"
    }
   ],
   "source": [
    "(defn snack [veg]\n",
    "    (str \"can have a little \" veg \", just as a snack\"))\n",
    "(defn snacks [name & veg]\n",
    "    (map #(println name (snack %)) veg))\n",
    "(snacks \"Ale\" \"Potato\" \"Salami\")"
   ]
  },
  {
   "cell_type": "markdown",
   "metadata": {},
   "source": [
    "### Destructuring\n",
    "The basic idea behind destructuring is that it lets you concisely bind names to values within a collection.  \n",
    "In other words, you can assign a specific variable name to a specific item in a list.  \n",
    "Here's an example of destructuring a vector:"
   ]
  },
  {
   "cell_type": "code",
   "execution_count": 26,
   "metadata": {},
   "outputs": [
    {
     "data": {
      "text/plain": [
       "war-axe, beans"
      ]
     },
     "execution_count": 26,
     "metadata": {},
     "output_type": "execute_result"
    }
   ],
   "source": [
    "(defn destruct\n",
    "  [[first-thing second-thing & others]] ; Notice that these parameters are within a vector\n",
    "    (str (clojure.string/join \", \" others)))\n",
    "    ;;(reduce str (map #(str % \", \") others)))\n",
    "\n",
    "(destruct [\"oven\" \"bike\" \"war-axe\" \"beans\"])"
   ]
  },
  {
   "cell_type": "markdown",
   "metadata": {},
   "source": [
    "We can also destructure a map to bind its values. This can be done by providing a map as a parameter:"
   ]
  },
  {
   "cell_type": "code",
   "execution_count": null,
   "metadata": {},
   "outputs": [],
   "source": [
    "(defn announce-treasure-location\n",
    "  [{lat :lat lng :lng}]\n",
    "    (println (str \"Treasure lat: \" lat))\n",
    "    (println (str \"Treasure lng: \" lng)))\n",
    "\n",
    "(announce-treasure-location {:lat 28.22 :lng 81.33})"
   ]
  },
  {
   "cell_type": "markdown",
   "metadata": {},
   "source": [
    "Here's the same thing but with a shorter syntax:"
   ]
  },
  {
   "cell_type": "code",
   "execution_count": 29,
   "metadata": {},
   "outputs": [
    {
     "name": "stdout",
     "output_type": "stream",
     "text": [
      "Treasure lat: 28.22\n",
      "Treasure lng: 81.33\n"
     ]
    },
    {
     "data": {
      "text/plain": [
       "null"
      ]
     },
     "execution_count": 29,
     "metadata": {},
     "output_type": "execute_result"
    }
   ],
   "source": [
    "(defn announce-treasure-location\n",
    "  [{:keys [lat lng]}]\n",
    "  (println (str \"Treasure lat: \" lat))\n",
    "  (println (str \"Treasure lng: \" lng)))\n",
    "\n",
    "(announce-treasure-location {:lat 28.22 :lng 81.33})"
   ]
  },
  {
   "cell_type": "code",
   "execution_count": 33,
   "metadata": {},
   "outputs": [
    {
     "name": "stdout",
     "output_type": "stream",
     "text": [
      "Treasure lat: 28.22\n",
      "Treasure lng: 81.33\n",
      "{:lat 28.22, :lng 81.33}\n"
     ]
    },
    {
     "data": {
      "text/plain": [
       "null"
      ]
     },
     "execution_count": 33,
     "metadata": {},
     "output_type": "execute_result"
    }
   ],
   "source": [
    "(defn receive-treasure-location\n",
    "  [{:keys [lat lng] :as treasure-location}]\n",
    "  (println (str \"Treasure lat: \" lat))\n",
    "  (println (str \"Treasure lng: \" lng))\n",
    "  (println treasure-location))\n",
    "\n",
    "(receive-treasure-location {:lat 28.22 :lng 81.33})"
   ]
  },
  {
   "cell_type": "markdown",
   "metadata": {},
   "source": [
    "## Anonymous Functions\n",
    "Anonymous functions are functions without an identifying name. There are two ways to decalre them. The first is with `fn` (similar to `defn` for defining a regular function):"
   ]
  },
  {
   "cell_type": "code",
   "execution_count": null,
   "metadata": {},
   "outputs": [],
   "source": [
    "((fn [x] (* x 3)) 8) ;;the 8 is passed in as the parameter x"
   ]
  },
  {
   "cell_type": "markdown",
   "metadata": {},
   "source": [
    "You can assign paramaters (including destructuring and rest parameters) and the body in an anonyous function just like you would in a regular function.  \n",
    "You can actually even give them a name:"
   ]
  },
  {
   "cell_type": "code",
   "execution_count": null,
   "metadata": {},
   "outputs": [],
   "source": [
    "(def my-special-multiplier (fn [x] (* x 3)))"
   ]
  },
  {
   "cell_type": "markdown",
   "metadata": {},
   "source": [
    "There is a second, more compact way, of defining anonymous functions:"
   ]
  },
  {
   "cell_type": "code",
   "execution_count": null,
   "metadata": {},
   "outputs": [],
   "source": [
    "(#(* % 3) 8)"
   ]
  },
  {
   "cell_type": "markdown",
   "metadata": {},
   "source": [
    "This compact form of anonymous functions is made possible through macros, but that's a topic for another time.\n",
    "\n",
    "The difference between a regular function like `(* 8 3)` and an anonymous function `#(* % 3)` is the `%` operator, which represents any arguments being passed to the function.  \n",
    "There are also a few ways to distingush arguments with `%`:"
   ]
  },
  {
   "cell_type": "code",
   "execution_count": 37,
   "metadata": {},
   "outputs": [
    {
     "data": {
      "text/plain": [
       "[blarg, :yip]"
      ]
     },
     "execution_count": 37,
     "metadata": {},
     "output_type": "execute_result"
    }
   ],
   "source": [
    ";; apending a number to % can indicate which arguement to use with multiple arguments\n",
    ";;(#(str %2 \" and \" %2) \"cornbread\" \"butter beans\")\n",
    "\n",
    "\n",
    ";; %1 is equivalent to 1\n",
    ";;(#(str % \" and \" %1) \"cornbread\")\n",
    "\n",
    ";; THIS WON'T WORK, and I don't know why.\n",
    ";;(#(str % \" and \" %1) \"cornbread\" \"sauce\")\n",
    "\n",
    ";; you can even use rest parameters. Identity will simply return the value of its parameter.\n",
    "(#(identity %&) \"blarg\" \":yip\")\n"
   ]
  },
  {
   "cell_type": "markdown",
   "metadata": {},
   "source": [
    "## Returning Functions\n",
    "Functions are capable of returning other functions. Returned functions are known as *closures*, which means that they can access all the variables that were in scope when the function was created.  \n",
    "For example:"
   ]
  },
  {
   "cell_type": "code",
   "execution_count": null,
   "metadata": {},
   "outputs": [],
   "source": [
    "(defn inc-maker\n",
    "  \"Create a custom incrementor\"\n",
    "  [inc-by]\n",
    "  #(+ % inc-by))\n",
    "\n",
    "(def inc3 (inc-maker 3))\n",
    "\n",
    "(inc3 7)"
   ]
  },
  {
   "cell_type": "markdown",
   "metadata": {},
   "source": [
    "# Time for a big example\n",
    "This next example will \"symmetrize\" a list of body parts. Given a vector which consists of multiple maps, duplicate all the parts that should be in pairs, and add the new part to the vector.  \n",
    "Understanding this will require a bit more of understanding for particular functions."
   ]
  },
  {
   "cell_type": "code",
   "execution_count": null,
   "metadata": {},
   "outputs": [],
   "source": [
    "(def asym-hobbit-body-parts [{:name \"head\" :size 3}\n",
    "                             {:name \"left-eye\" :size 1}\n",
    "                             {:name \"left-ear\" :size 1}\n",
    "                             {:name \"mouth\" :size 1}\n",
    "                             {:name \"nose\" :size 1}\n",
    "                             {:name \"neck\" :size 2}\n",
    "                             {:name \"left-shoulder\" :size 3}\n",
    "                             {:name \"left-upper-arm\" :size 3}\n",
    "                             {:name \"chest\" :size 10}\n",
    "                             {:name \"back\" :size 10}\n",
    "                             {:name \"left-forearm\" :size 3}\n",
    "                             {:name \"abdomen\" :size 6}\n",
    "                             {:name \"left-kidney\" :size 1}\n",
    "                             {:name \"left-hand\" :size 2}\n",
    "                             {:name \"left-knee\" :size 2}\n",
    "                             {:name \"left-thigh\" :size 4}\n",
    "                             {:name \"left-lower-leg\" :size 3}\n",
    "                             {:name \"left-achilles\" :size 1}\n",
    "                             {:name \"left-foot\" :size 2}])\n",
    "\n",
    "(defn matching-part\n",
    "  [part]\n",
    "  {:name (clojure.string/replace (:name part) #\"^left-\" \"right-\")\n",
    "   :size (:size part)})\n",
    "\n",
    "(defn symmetrize-body-parts\n",
    "  \"Expects a seq of maps that have a :name and :size\"\n",
    "  [asym-body-parts]\n",
    "  (loop [remaining-asym-parts asym-body-parts\n",
    "         final-body-parts []]\n",
    "    (if (empty? remaining-asym-parts)\n",
    "      final-body-parts\n",
    "      (let [[part & remaining] remaining-asym-parts]\n",
    "        (recur remaining\n",
    "               (into final-body-parts\n",
    "                     (set [part (matching-part part)])))))))\n",
    "\n",
    "(println (symmetrize-body-parts asym-hobbit-body-parts))"
   ]
  },
  {
   "cell_type": "markdown",
   "metadata": {},
   "source": [
    "## let\n",
    "`let`, simply enough, allows you to bind a name to a value. It is used in the following format:  \n",
    "`(let [x 3])`  \n",
    "where `3` is the value and `x` is the identifier.\n",
    "\n",
    "You might be thinking that this is kind of similar to how `def` works. That's because it kind of is.  \n",
    "One key difference, though, is that `let` introduces a new scope:"
   ]
  },
  {
   "cell_type": "code",
   "execution_count": null,
   "metadata": {},
   "outputs": [],
   "source": [
    "(def x 0) ;; def works globally\n",
    "(let [x (inc x)] x) ;; let can overwrite x, as long as you are within the scope of the let form"
   ]
  },
  {
   "cell_type": "markdown",
   "metadata": {},
   "source": [
    "Now here's a `let` form that makes use of both rest parameters and destructuring:"
   ]
  },
  {
   "cell_type": "code",
   "execution_count": 40,
   "metadata": {},
   "outputs": [
    {
     "data": {
      "text/plain": [
       "[s, 9]"
      ]
     },
     "execution_count": 40,
     "metadata": {},
     "output_type": "execute_result"
    }
   ],
   "source": [
    "(def dalmatian-list \"s9\")\n",
    "(let [[pongo dalmatians] dalmatian-list]\n",
    "  [pongo dalmatians])"
   ]
  },
  {
   "cell_type": "markdown",
   "metadata": {},
   "source": [
    "`let` forms have two main uses:\n",
    "1. They provide clarity by allowing you to name things.\n",
    "2. They allow you to evaluate an expression only once and reuse the result. (good for expensive operations and reducing side effects)\n",
    "\n",
    "Let's take another look at the let form in the summarizing function:"
   ]
  },
  {
   "cell_type": "code",
   "execution_count": null,
   "metadata": {},
   "outputs": [],
   "source": [
    "(let [[part & remaining] remaining-asym-parts]\n",
    "  (recur remaining\n",
    "         (into final-body-parts\n",
    "               (set [part (matching-part part)]))))"
   ]
  },
  {
   "cell_type": "markdown",
   "metadata": {},
   "source": [
    "The first line,  \n",
    "``` clojure\n",
    "(let [[part & remaining] remaining-asym-parts]\n",
    "```  \n",
    "is saving the first element of `remaining-asym-parts` in `part` and putting all the other elements into a list in `remaining`. We could use functions like `first` and `rest` instead of using `let`, but that would get a lot messier.\n",
    "\n",
    "The third and fourth lines,\n",
    "``` clojure\n",
    "(into final-body-parts\n",
    "      (set [part (matching-part part)]))\n",
    "```\n",
    "makes a new set consisting of two matching body parts, then adds those those elements into the vector `final-body-parts`\n",
    "\n",
    "## loop\n",
    "The main purpose of `loop` is to perform recursion in clojure.  \n",
    "`loop` kind of creates an anonymous function by binding a value to a label, and then the function `recur` can be used to recursively call the loop.\n"
   ]
  },
  {
   "cell_type": "code",
   "execution_count": 41,
   "metadata": {},
   "outputs": [
    {
     "name": "stdout",
     "output_type": "stream",
     "text": [
      "Iteration 0\n",
      "Iteration 1\n",
      "Iteration 2\n",
      "Iteration 3\n",
      "Iteration 4\n",
      "Goodbye!\n"
     ]
    },
    {
     "data": {
      "text/plain": [
       "null"
      ]
     },
     "execution_count": 41,
     "metadata": {},
     "output_type": "execute_result"
    }
   ],
   "source": [
    "(loop [iteration 0]\n",
    "  (println (str \"Iteration \" iteration))\n",
    "  (if (> iteration 3)\n",
    "    (println \"Goodbye!\")\n",
    "    (recur (inc iteration))))"
   ]
  },
  {
   "cell_type": "markdown",
   "metadata": {},
   "source": [
    "## Regular Expressions\n",
    "Rgeular expressions, or regex, are tools for performing pattern matching on text. They are denoted by placing a hash mark in front of quotes:\n",
    "``` clojure\n",
    "#\"regular-expression\"\n",
    "```\n",
    "The function `matching-part` from the big example uses the regex `#\"^left-\"` to check for any strings that start with \"left-\". The carat(^) indicates the start of the string. You can test your regex with `re-find`, which will return `nil` if the regex does not match the text.\n",
    "\n",
    "It also doesn't matter to much because the text book tells you to simply reduce"
   ]
  },
  {
   "cell_type": "code",
   "execution_count": 42,
   "metadata": {},
   "outputs": [
    {
     "data": {
      "text/plain": [
       "null"
      ]
     },
     "execution_count": 42,
     "metadata": {},
     "output_type": "execute_result"
    }
   ],
   "source": [
    "(re-find #\"^left-\" \"left-eye\")\n",
    "\n",
    "(re-find #\"^left-\" \"cleft-chin\")"
   ]
  },
  {
   "cell_type": "markdown",
   "metadata": {},
   "source": [
    "With that you should have everything you need to understand the big example. If you need more of an explanation, we can discuss it, or you can look at the \"Symmetrizer\" section in the online textbook.\n",
    "\n",
    "Plus after learning all that textbook just tells you to replace the majority6 of the `symmetrize-body-parts` with `reduce`."
   ]
  },
  {
   "cell_type": "code",
   "execution_count": null,
   "metadata": {},
   "outputs": [],
   "source": [
    "(defn better-symmetrize-body-parts\n",
    "  \"Expects a seq of maps that have a :name and :size\"\n",
    "  [asym-body-parts]\n",
    "  (reduce (fn [final-body-parts part]\n",
    "            (into final-body-parts (set [part (matching-part part)])))\n",
    "          []\n",
    "          asym-body-parts))\n"
   ]
  },
  {
   "cell_type": "markdown",
   "metadata": {},
   "source": [
    "# Potential Exercises\n",
    "1. Write a function that takes in a single input parameter. If any more or less parameters get passed, return \"Invalid parameters.\"\n",
    "\n",
    "Exercises from the end of chapter 3  \n",
    "Continue working on bots?"
   ]
  }
 ],
 "metadata": {
  "kernelspec": {
   "display_name": "Clojure",
   "language": "clojure",
   "name": "clojure"
  },
  "language_info": {
   "codemirror_mode": "Clojure",
   "file_extension": ".clj",
   "mimetype": "text/x-clojure",
   "name": "Clojure",
   "nbconverter_exporter": "",
   "version": "1.9.0"
  }
 },
 "nbformat": 4,
 "nbformat_minor": 4
}
